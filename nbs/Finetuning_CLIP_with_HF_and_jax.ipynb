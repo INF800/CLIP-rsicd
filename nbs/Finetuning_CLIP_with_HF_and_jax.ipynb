{
  "nbformat": 4,
  "nbformat_minor": 0,
  "metadata": {
    "colab": {
      "name": " Fine-tuning CLIP with HF and jax.ipynb",
      "provenance": [],
      "collapsed_sections": []
    },
    "kernelspec": {
      "display_name": "Python 3",
      "name": "python3"
    },
    "language_info": {
      "name": "python"
    },
    "accelerator": "GPU",
    "widgets": {
      "application/vnd.jupyter.widget-state+json": {
        "c833cecd05994e699ba391f2b62641eb": {
          "model_module": "@jupyter-widgets/controls",
          "model_name": "VBoxModel",
          "model_module_version": "1.5.0",
          "state": {
            "_view_name": "VBoxView",
            "_dom_classes": [],
            "_model_name": "VBoxModel",
            "_view_module": "@jupyter-widgets/controls",
            "_model_module_version": "1.5.0",
            "_view_count": null,
            "_view_module_version": "1.5.0",
            "box_style": "",
            "layout": "IPY_MODEL_a9bfaf1f61b54ad5b78a2b8d605e1c06",
            "_model_module": "@jupyter-widgets/controls",
            "children": [
              "IPY_MODEL_3907252d7dc6411b87b2805665b77f2e",
              "IPY_MODEL_33df012af719454f8d45f923fa405ee9"
            ]
          }
        },
        "a9bfaf1f61b54ad5b78a2b8d605e1c06": {
          "model_module": "@jupyter-widgets/base",
          "model_name": "LayoutModel",
          "model_module_version": "1.2.0",
          "state": {
            "_view_name": "LayoutView",
            "grid_template_rows": null,
            "right": null,
            "justify_content": null,
            "_view_module": "@jupyter-widgets/base",
            "overflow": null,
            "_model_module_version": "1.2.0",
            "_view_count": null,
            "flex_flow": null,
            "width": null,
            "min_width": null,
            "border": null,
            "align_items": null,
            "bottom": null,
            "_model_module": "@jupyter-widgets/base",
            "top": null,
            "grid_column": null,
            "overflow_y": null,
            "overflow_x": null,
            "grid_auto_flow": null,
            "grid_area": null,
            "grid_template_columns": null,
            "flex": null,
            "_model_name": "LayoutModel",
            "justify_items": null,
            "grid_row": null,
            "max_height": null,
            "align_content": null,
            "visibility": null,
            "align_self": null,
            "height": null,
            "min_height": null,
            "padding": null,
            "grid_auto_rows": null,
            "grid_gap": null,
            "max_width": null,
            "order": null,
            "_view_module_version": "1.2.0",
            "grid_template_areas": null,
            "object_position": null,
            "object_fit": null,
            "grid_auto_columns": null,
            "margin": null,
            "display": null,
            "left": null
          }
        },
        "3907252d7dc6411b87b2805665b77f2e": {
          "model_module": "@jupyter-widgets/controls",
          "model_name": "LabelModel",
          "model_module_version": "1.5.0",
          "state": {
            "_view_name": "LabelView",
            "style": "IPY_MODEL_67679d336fd24200bb3c3cf03427d9eb",
            "_dom_classes": [],
            "description": "",
            "_model_name": "LabelModel",
            "placeholder": "​",
            "_view_module": "@jupyter-widgets/controls",
            "_model_module_version": "1.5.0",
            "value": " 0.01MB of 0.01MB uploaded (0.00MB deduped)\r",
            "_view_count": null,
            "_view_module_version": "1.5.0",
            "description_tooltip": null,
            "_model_module": "@jupyter-widgets/controls",
            "layout": "IPY_MODEL_51b64a225b224b2e859c3f520a3d3807"
          }
        },
        "33df012af719454f8d45f923fa405ee9": {
          "model_module": "@jupyter-widgets/controls",
          "model_name": "FloatProgressModel",
          "model_module_version": "1.5.0",
          "state": {
            "_view_name": "ProgressView",
            "style": "IPY_MODEL_761894e58de9496b9546e7279c5c5a1d",
            "_dom_classes": [],
            "description": "",
            "_model_name": "FloatProgressModel",
            "bar_style": "",
            "max": 1,
            "_view_module": "@jupyter-widgets/controls",
            "_model_module_version": "1.5.0",
            "value": 1,
            "_view_count": null,
            "_view_module_version": "1.5.0",
            "orientation": "horizontal",
            "min": 0,
            "description_tooltip": null,
            "_model_module": "@jupyter-widgets/controls",
            "layout": "IPY_MODEL_4e43c5a5aab8455eb90618c7610d623f"
          }
        },
        "67679d336fd24200bb3c3cf03427d9eb": {
          "model_module": "@jupyter-widgets/controls",
          "model_name": "DescriptionStyleModel",
          "model_module_version": "1.5.0",
          "state": {
            "_view_name": "StyleView",
            "_model_name": "DescriptionStyleModel",
            "description_width": "",
            "_view_module": "@jupyter-widgets/base",
            "_model_module_version": "1.5.0",
            "_view_count": null,
            "_view_module_version": "1.2.0",
            "_model_module": "@jupyter-widgets/controls"
          }
        },
        "51b64a225b224b2e859c3f520a3d3807": {
          "model_module": "@jupyter-widgets/base",
          "model_name": "LayoutModel",
          "model_module_version": "1.2.0",
          "state": {
            "_view_name": "LayoutView",
            "grid_template_rows": null,
            "right": null,
            "justify_content": null,
            "_view_module": "@jupyter-widgets/base",
            "overflow": null,
            "_model_module_version": "1.2.0",
            "_view_count": null,
            "flex_flow": null,
            "width": null,
            "min_width": null,
            "border": null,
            "align_items": null,
            "bottom": null,
            "_model_module": "@jupyter-widgets/base",
            "top": null,
            "grid_column": null,
            "overflow_y": null,
            "overflow_x": null,
            "grid_auto_flow": null,
            "grid_area": null,
            "grid_template_columns": null,
            "flex": null,
            "_model_name": "LayoutModel",
            "justify_items": null,
            "grid_row": null,
            "max_height": null,
            "align_content": null,
            "visibility": null,
            "align_self": null,
            "height": null,
            "min_height": null,
            "padding": null,
            "grid_auto_rows": null,
            "grid_gap": null,
            "max_width": null,
            "order": null,
            "_view_module_version": "1.2.0",
            "grid_template_areas": null,
            "object_position": null,
            "object_fit": null,
            "grid_auto_columns": null,
            "margin": null,
            "display": null,
            "left": null
          }
        },
        "761894e58de9496b9546e7279c5c5a1d": {
          "model_module": "@jupyter-widgets/controls",
          "model_name": "ProgressStyleModel",
          "model_module_version": "1.5.0",
          "state": {
            "_view_name": "StyleView",
            "_model_name": "ProgressStyleModel",
            "description_width": "",
            "_view_module": "@jupyter-widgets/base",
            "_model_module_version": "1.5.0",
            "_view_count": null,
            "_view_module_version": "1.2.0",
            "bar_color": null,
            "_model_module": "@jupyter-widgets/controls"
          }
        },
        "4e43c5a5aab8455eb90618c7610d623f": {
          "model_module": "@jupyter-widgets/base",
          "model_name": "LayoutModel",
          "model_module_version": "1.2.0",
          "state": {
            "_view_name": "LayoutView",
            "grid_template_rows": null,
            "right": null,
            "justify_content": null,
            "_view_module": "@jupyter-widgets/base",
            "overflow": null,
            "_model_module_version": "1.2.0",
            "_view_count": null,
            "flex_flow": null,
            "width": null,
            "min_width": null,
            "border": null,
            "align_items": null,
            "bottom": null,
            "_model_module": "@jupyter-widgets/base",
            "top": null,
            "grid_column": null,
            "overflow_y": null,
            "overflow_x": null,
            "grid_auto_flow": null,
            "grid_area": null,
            "grid_template_columns": null,
            "flex": null,
            "_model_name": "LayoutModel",
            "justify_items": null,
            "grid_row": null,
            "max_height": null,
            "align_content": null,
            "visibility": null,
            "align_self": null,
            "height": null,
            "min_height": null,
            "padding": null,
            "grid_auto_rows": null,
            "grid_gap": null,
            "max_width": null,
            "order": null,
            "_view_module_version": "1.2.0",
            "grid_template_areas": null,
            "object_position": null,
            "object_fit": null,
            "grid_auto_columns": null,
            "margin": null,
            "display": null,
            "left": null
          }
        },
        "7ed55cfdca33453da2e51397362c60ec": {
          "model_module": "@jupyter-widgets/controls",
          "model_name": "HBoxModel",
          "model_module_version": "1.5.0",
          "state": {
            "_view_name": "HBoxView",
            "_dom_classes": [],
            "_model_name": "HBoxModel",
            "_view_module": "@jupyter-widgets/controls",
            "_model_module_version": "1.5.0",
            "_view_count": null,
            "_view_module_version": "1.5.0",
            "box_style": "",
            "layout": "IPY_MODEL_ad6b2d03d7464417be640a36ee5d4d5d",
            "_model_module": "@jupyter-widgets/controls",
            "children": [
              "IPY_MODEL_b3b0f1f7b94f49e7be28be45f9e7685b",
              "IPY_MODEL_f4fa6f6704c04a70919cd6d6613718ef",
              "IPY_MODEL_76e5d58fd54e49529c0c3434ed67c5eb"
            ]
          }
        },
        "ad6b2d03d7464417be640a36ee5d4d5d": {
          "model_module": "@jupyter-widgets/base",
          "model_name": "LayoutModel",
          "model_module_version": "1.2.0",
          "state": {
            "_view_name": "LayoutView",
            "grid_template_rows": null,
            "right": null,
            "justify_content": null,
            "_view_module": "@jupyter-widgets/base",
            "overflow": null,
            "_model_module_version": "1.2.0",
            "_view_count": null,
            "flex_flow": null,
            "width": null,
            "min_width": null,
            "border": null,
            "align_items": null,
            "bottom": null,
            "_model_module": "@jupyter-widgets/base",
            "top": null,
            "grid_column": null,
            "overflow_y": null,
            "overflow_x": null,
            "grid_auto_flow": null,
            "grid_area": null,
            "grid_template_columns": null,
            "flex": null,
            "_model_name": "LayoutModel",
            "justify_items": null,
            "grid_row": null,
            "max_height": null,
            "align_content": null,
            "visibility": null,
            "align_self": null,
            "height": null,
            "min_height": null,
            "padding": null,
            "grid_auto_rows": null,
            "grid_gap": null,
            "max_width": null,
            "order": null,
            "_view_module_version": "1.2.0",
            "grid_template_areas": null,
            "object_position": null,
            "object_fit": null,
            "grid_auto_columns": null,
            "margin": null,
            "display": null,
            "left": null
          }
        },
        "b3b0f1f7b94f49e7be28be45f9e7685b": {
          "model_module": "@jupyter-widgets/controls",
          "model_name": "HTMLModel",
          "model_module_version": "1.5.0",
          "state": {
            "_view_name": "HTMLView",
            "style": "IPY_MODEL_581b48645481451f83c18b4c3d60e92a",
            "_dom_classes": [],
            "description": "",
            "_model_name": "HTMLModel",
            "placeholder": "​",
            "_view_module": "@jupyter-widgets/controls",
            "_model_module_version": "1.5.0",
            "value": "Step... (2045 | Eval Loss: 2.3446433544158936):  75%",
            "_view_count": null,
            "_view_module_version": "1.5.0",
            "description_tooltip": null,
            "_model_module": "@jupyter-widgets/controls",
            "layout": "IPY_MODEL_0bb8e492c49249fe97c76b02af3c0cb2"
          }
        },
        "f4fa6f6704c04a70919cd6d6613718ef": {
          "model_module": "@jupyter-widgets/controls",
          "model_name": "FloatProgressModel",
          "model_module_version": "1.5.0",
          "state": {
            "_view_name": "ProgressView",
            "style": "IPY_MODEL_29152c308d254c9199ce44add4625c51",
            "_dom_classes": [],
            "description": "",
            "_model_name": "FloatProgressModel",
            "bar_style": "",
            "max": 4,
            "_view_module": "@jupyter-widgets/controls",
            "_model_module_version": "1.5.0",
            "value": 3,
            "_view_count": null,
            "_view_module_version": "1.5.0",
            "orientation": "horizontal",
            "min": 0,
            "description_tooltip": null,
            "_model_module": "@jupyter-widgets/controls",
            "layout": "IPY_MODEL_591ae2d451cf4ed78b5722442c21c007"
          }
        },
        "76e5d58fd54e49529c0c3434ed67c5eb": {
          "model_module": "@jupyter-widgets/controls",
          "model_name": "HTMLModel",
          "model_module_version": "1.5.0",
          "state": {
            "_view_name": "HTMLView",
            "style": "IPY_MODEL_aae0b860ab334c15b2395b8f44e05f1e",
            "_dom_classes": [],
            "description": "",
            "_model_name": "HTMLModel",
            "placeholder": "​",
            "_view_module": "@jupyter-widgets/controls",
            "_model_module_version": "1.5.0",
            "value": " 3/4 [3:02:40&lt;51:48, 3108.07s/it]",
            "_view_count": null,
            "_view_module_version": "1.5.0",
            "description_tooltip": null,
            "_model_module": "@jupyter-widgets/controls",
            "layout": "IPY_MODEL_c8652e59f26b4cb98883da6b20d35057"
          }
        },
        "581b48645481451f83c18b4c3d60e92a": {
          "model_module": "@jupyter-widgets/controls",
          "model_name": "DescriptionStyleModel",
          "model_module_version": "1.5.0",
          "state": {
            "_view_name": "StyleView",
            "_model_name": "DescriptionStyleModel",
            "description_width": "",
            "_view_module": "@jupyter-widgets/base",
            "_model_module_version": "1.5.0",
            "_view_count": null,
            "_view_module_version": "1.2.0",
            "_model_module": "@jupyter-widgets/controls"
          }
        },
        "0bb8e492c49249fe97c76b02af3c0cb2": {
          "model_module": "@jupyter-widgets/base",
          "model_name": "LayoutModel",
          "model_module_version": "1.2.0",
          "state": {
            "_view_name": "LayoutView",
            "grid_template_rows": null,
            "right": null,
            "justify_content": null,
            "_view_module": "@jupyter-widgets/base",
            "overflow": null,
            "_model_module_version": "1.2.0",
            "_view_count": null,
            "flex_flow": null,
            "width": null,
            "min_width": null,
            "border": null,
            "align_items": null,
            "bottom": null,
            "_model_module": "@jupyter-widgets/base",
            "top": null,
            "grid_column": null,
            "overflow_y": null,
            "overflow_x": null,
            "grid_auto_flow": null,
            "grid_area": null,
            "grid_template_columns": null,
            "flex": null,
            "_model_name": "LayoutModel",
            "justify_items": null,
            "grid_row": null,
            "max_height": null,
            "align_content": null,
            "visibility": null,
            "align_self": null,
            "height": null,
            "min_height": null,
            "padding": null,
            "grid_auto_rows": null,
            "grid_gap": null,
            "max_width": null,
            "order": null,
            "_view_module_version": "1.2.0",
            "grid_template_areas": null,
            "object_position": null,
            "object_fit": null,
            "grid_auto_columns": null,
            "margin": null,
            "display": null,
            "left": null
          }
        },
        "29152c308d254c9199ce44add4625c51": {
          "model_module": "@jupyter-widgets/controls",
          "model_name": "ProgressStyleModel",
          "model_module_version": "1.5.0",
          "state": {
            "_view_name": "StyleView",
            "_model_name": "ProgressStyleModel",
            "description_width": "",
            "_view_module": "@jupyter-widgets/base",
            "_model_module_version": "1.5.0",
            "_view_count": null,
            "_view_module_version": "1.2.0",
            "bar_color": null,
            "_model_module": "@jupyter-widgets/controls"
          }
        },
        "591ae2d451cf4ed78b5722442c21c007": {
          "model_module": "@jupyter-widgets/base",
          "model_name": "LayoutModel",
          "model_module_version": "1.2.0",
          "state": {
            "_view_name": "LayoutView",
            "grid_template_rows": null,
            "right": null,
            "justify_content": null,
            "_view_module": "@jupyter-widgets/base",
            "overflow": null,
            "_model_module_version": "1.2.0",
            "_view_count": null,
            "flex_flow": null,
            "width": null,
            "min_width": null,
            "border": null,
            "align_items": null,
            "bottom": null,
            "_model_module": "@jupyter-widgets/base",
            "top": null,
            "grid_column": null,
            "overflow_y": null,
            "overflow_x": null,
            "grid_auto_flow": null,
            "grid_area": null,
            "grid_template_columns": null,
            "flex": null,
            "_model_name": "LayoutModel",
            "justify_items": null,
            "grid_row": null,
            "max_height": null,
            "align_content": null,
            "visibility": null,
            "align_self": null,
            "height": null,
            "min_height": null,
            "padding": null,
            "grid_auto_rows": null,
            "grid_gap": null,
            "max_width": null,
            "order": null,
            "_view_module_version": "1.2.0",
            "grid_template_areas": null,
            "object_position": null,
            "object_fit": null,
            "grid_auto_columns": null,
            "margin": null,
            "display": null,
            "left": null
          }
        },
        "aae0b860ab334c15b2395b8f44e05f1e": {
          "model_module": "@jupyter-widgets/controls",
          "model_name": "DescriptionStyleModel",
          "model_module_version": "1.5.0",
          "state": {
            "_view_name": "StyleView",
            "_model_name": "DescriptionStyleModel",
            "description_width": "",
            "_view_module": "@jupyter-widgets/base",
            "_model_module_version": "1.5.0",
            "_view_count": null,
            "_view_module_version": "1.2.0",
            "_model_module": "@jupyter-widgets/controls"
          }
        },
        "c8652e59f26b4cb98883da6b20d35057": {
          "model_module": "@jupyter-widgets/base",
          "model_name": "LayoutModel",
          "model_module_version": "1.2.0",
          "state": {
            "_view_name": "LayoutView",
            "grid_template_rows": null,
            "right": null,
            "justify_content": null,
            "_view_module": "@jupyter-widgets/base",
            "overflow": null,
            "_model_module_version": "1.2.0",
            "_view_count": null,
            "flex_flow": null,
            "width": null,
            "min_width": null,
            "border": null,
            "align_items": null,
            "bottom": null,
            "_model_module": "@jupyter-widgets/base",
            "top": null,
            "grid_column": null,
            "overflow_y": null,
            "overflow_x": null,
            "grid_auto_flow": null,
            "grid_area": null,
            "grid_template_columns": null,
            "flex": null,
            "_model_name": "LayoutModel",
            "justify_items": null,
            "grid_row": null,
            "max_height": null,
            "align_content": null,
            "visibility": null,
            "align_self": null,
            "height": null,
            "min_height": null,
            "padding": null,
            "grid_auto_rows": null,
            "grid_gap": null,
            "max_width": null,
            "order": null,
            "_view_module_version": "1.2.0",
            "grid_template_areas": null,
            "object_position": null,
            "object_fit": null,
            "grid_auto_columns": null,
            "margin": null,
            "display": null,
            "left": null
          }
        },
        "672f057fc7764b23aa56ff23dfd2ae26": {
          "model_module": "@jupyter-widgets/controls",
          "model_name": "HBoxModel",
          "model_module_version": "1.5.0",
          "state": {
            "_view_name": "HBoxView",
            "_dom_classes": [],
            "_model_name": "HBoxModel",
            "_view_module": "@jupyter-widgets/controls",
            "_model_module_version": "1.5.0",
            "_view_count": null,
            "_view_module_version": "1.5.0",
            "box_style": "",
            "layout": "IPY_MODEL_70d78cd99332459ab33c33461c1c3b26",
            "_model_module": "@jupyter-widgets/controls",
            "children": [
              "IPY_MODEL_4db6a35290f84ea08ed78653a6b8cbe7",
              "IPY_MODEL_690f0c78da93408b90f738447ef58365",
              "IPY_MODEL_350d2dcec83341b590e7d8de76ef463d"
            ]
          }
        },
        "70d78cd99332459ab33c33461c1c3b26": {
          "model_module": "@jupyter-widgets/base",
          "model_name": "LayoutModel",
          "model_module_version": "1.2.0",
          "state": {
            "_view_name": "LayoutView",
            "grid_template_rows": null,
            "right": null,
            "justify_content": null,
            "_view_module": "@jupyter-widgets/base",
            "overflow": null,
            "_model_module_version": "1.2.0",
            "_view_count": null,
            "flex_flow": null,
            "width": null,
            "min_width": null,
            "border": null,
            "align_items": null,
            "bottom": null,
            "_model_module": "@jupyter-widgets/base",
            "top": null,
            "grid_column": null,
            "overflow_y": null,
            "overflow_x": null,
            "grid_auto_flow": null,
            "grid_area": null,
            "grid_template_columns": null,
            "flex": null,
            "_model_name": "LayoutModel",
            "justify_items": null,
            "grid_row": null,
            "max_height": null,
            "align_content": null,
            "visibility": null,
            "align_self": null,
            "height": null,
            "min_height": null,
            "padding": null,
            "grid_auto_rows": null,
            "grid_gap": null,
            "max_width": null,
            "order": null,
            "_view_module_version": "1.2.0",
            "grid_template_areas": null,
            "object_position": null,
            "object_fit": null,
            "grid_auto_columns": null,
            "margin": null,
            "display": null,
            "left": null
          }
        },
        "4db6a35290f84ea08ed78653a6b8cbe7": {
          "model_module": "@jupyter-widgets/controls",
          "model_name": "HTMLModel",
          "model_module_version": "1.5.0",
          "state": {
            "_view_name": "HTMLView",
            "style": "IPY_MODEL_ad4362b5649b44e5a7dcc9b37fd81d4f",
            "_dom_classes": [],
            "description": "",
            "_model_name": "HTMLModel",
            "placeholder": "​",
            "_view_module": "@jupyter-widgets/controls",
            "_model_module_version": "1.5.0",
            "value": "Training...:  13%",
            "_view_count": null,
            "_view_module_version": "1.5.0",
            "description_tooltip": null,
            "_model_module": "@jupyter-widgets/controls",
            "layout": "IPY_MODEL_740b81eb90384b30ac4237f104042c45"
          }
        },
        "690f0c78da93408b90f738447ef58365": {
          "model_module": "@jupyter-widgets/controls",
          "model_name": "FloatProgressModel",
          "model_module_version": "1.5.0",
          "state": {
            "_view_name": "ProgressView",
            "style": "IPY_MODEL_52e5741e699549f392a727dd7f782b3c",
            "_dom_classes": [],
            "description": "",
            "_model_name": "FloatProgressModel",
            "bar_style": "danger",
            "max": 682,
            "_view_module": "@jupyter-widgets/controls",
            "_model_module_version": "1.5.0",
            "value": 86,
            "_view_count": null,
            "_view_module_version": "1.5.0",
            "orientation": "horizontal",
            "min": 0,
            "description_tooltip": null,
            "_model_module": "@jupyter-widgets/controls",
            "layout": "IPY_MODEL_d3bd29be10564a298b03decbcf7b5962"
          }
        },
        "350d2dcec83341b590e7d8de76ef463d": {
          "model_module": "@jupyter-widgets/controls",
          "model_name": "HTMLModel",
          "model_module_version": "1.5.0",
          "state": {
            "_view_name": "HTMLView",
            "style": "IPY_MODEL_ea4a835a5fb442b9a3c0b23efc8ac356",
            "_dom_classes": [],
            "description": "",
            "_model_name": "HTMLModel",
            "placeholder": "​",
            "_view_module": "@jupyter-widgets/controls",
            "_model_module_version": "1.5.0",
            "value": " 86/682 [56:08&lt;5:52:37, 35.50s/it]",
            "_view_count": null,
            "_view_module_version": "1.5.0",
            "description_tooltip": null,
            "_model_module": "@jupyter-widgets/controls",
            "layout": "IPY_MODEL_677f8fdbd8e54120a5f28fe1bc61ae2f"
          }
        },
        "ad4362b5649b44e5a7dcc9b37fd81d4f": {
          "model_module": "@jupyter-widgets/controls",
          "model_name": "DescriptionStyleModel",
          "model_module_version": "1.5.0",
          "state": {
            "_view_name": "StyleView",
            "_model_name": "DescriptionStyleModel",
            "description_width": "",
            "_view_module": "@jupyter-widgets/base",
            "_model_module_version": "1.5.0",
            "_view_count": null,
            "_view_module_version": "1.2.0",
            "_model_module": "@jupyter-widgets/controls"
          }
        },
        "740b81eb90384b30ac4237f104042c45": {
          "model_module": "@jupyter-widgets/base",
          "model_name": "LayoutModel",
          "model_module_version": "1.2.0",
          "state": {
            "_view_name": "LayoutView",
            "grid_template_rows": null,
            "right": null,
            "justify_content": null,
            "_view_module": "@jupyter-widgets/base",
            "overflow": null,
            "_model_module_version": "1.2.0",
            "_view_count": null,
            "flex_flow": null,
            "width": null,
            "min_width": null,
            "border": null,
            "align_items": null,
            "bottom": null,
            "_model_module": "@jupyter-widgets/base",
            "top": null,
            "grid_column": null,
            "overflow_y": null,
            "overflow_x": null,
            "grid_auto_flow": null,
            "grid_area": null,
            "grid_template_columns": null,
            "flex": null,
            "_model_name": "LayoutModel",
            "justify_items": null,
            "grid_row": null,
            "max_height": null,
            "align_content": null,
            "visibility": null,
            "align_self": null,
            "height": null,
            "min_height": null,
            "padding": null,
            "grid_auto_rows": null,
            "grid_gap": null,
            "max_width": null,
            "order": null,
            "_view_module_version": "1.2.0",
            "grid_template_areas": null,
            "object_position": null,
            "object_fit": null,
            "grid_auto_columns": null,
            "margin": null,
            "display": null,
            "left": null
          }
        },
        "52e5741e699549f392a727dd7f782b3c": {
          "model_module": "@jupyter-widgets/controls",
          "model_name": "ProgressStyleModel",
          "model_module_version": "1.5.0",
          "state": {
            "_view_name": "StyleView",
            "_model_name": "ProgressStyleModel",
            "description_width": "",
            "_view_module": "@jupyter-widgets/base",
            "_model_module_version": "1.5.0",
            "_view_count": null,
            "_view_module_version": "1.2.0",
            "bar_color": null,
            "_model_module": "@jupyter-widgets/controls"
          }
        },
        "d3bd29be10564a298b03decbcf7b5962": {
          "model_module": "@jupyter-widgets/base",
          "model_name": "LayoutModel",
          "model_module_version": "1.2.0",
          "state": {
            "_view_name": "LayoutView",
            "grid_template_rows": null,
            "right": null,
            "justify_content": null,
            "_view_module": "@jupyter-widgets/base",
            "overflow": null,
            "_model_module_version": "1.2.0",
            "_view_count": null,
            "flex_flow": null,
            "width": null,
            "min_width": null,
            "border": null,
            "align_items": null,
            "bottom": null,
            "_model_module": "@jupyter-widgets/base",
            "top": null,
            "grid_column": null,
            "overflow_y": null,
            "overflow_x": null,
            "grid_auto_flow": null,
            "grid_area": null,
            "grid_template_columns": null,
            "flex": null,
            "_model_name": "LayoutModel",
            "justify_items": null,
            "grid_row": null,
            "max_height": null,
            "align_content": null,
            "visibility": null,
            "align_self": null,
            "height": null,
            "min_height": null,
            "padding": null,
            "grid_auto_rows": null,
            "grid_gap": null,
            "max_width": null,
            "order": null,
            "_view_module_version": "1.2.0",
            "grid_template_areas": null,
            "object_position": null,
            "object_fit": null,
            "grid_auto_columns": null,
            "margin": null,
            "display": null,
            "left": null
          }
        },
        "ea4a835a5fb442b9a3c0b23efc8ac356": {
          "model_module": "@jupyter-widgets/controls",
          "model_name": "DescriptionStyleModel",
          "model_module_version": "1.5.0",
          "state": {
            "_view_name": "StyleView",
            "_model_name": "DescriptionStyleModel",
            "description_width": "",
            "_view_module": "@jupyter-widgets/base",
            "_model_module_version": "1.5.0",
            "_view_count": null,
            "_view_module_version": "1.2.0",
            "_model_module": "@jupyter-widgets/controls"
          }
        },
        "677f8fdbd8e54120a5f28fe1bc61ae2f": {
          "model_module": "@jupyter-widgets/base",
          "model_name": "LayoutModel",
          "model_module_version": "1.2.0",
          "state": {
            "_view_name": "LayoutView",
            "grid_template_rows": null,
            "right": null,
            "justify_content": null,
            "_view_module": "@jupyter-widgets/base",
            "overflow": null,
            "_model_module_version": "1.2.0",
            "_view_count": null,
            "flex_flow": null,
            "width": null,
            "min_width": null,
            "border": null,
            "align_items": null,
            "bottom": null,
            "_model_module": "@jupyter-widgets/base",
            "top": null,
            "grid_column": null,
            "overflow_y": null,
            "overflow_x": null,
            "grid_auto_flow": null,
            "grid_area": null,
            "grid_template_columns": null,
            "flex": null,
            "_model_name": "LayoutModel",
            "justify_items": null,
            "grid_row": null,
            "max_height": null,
            "align_content": null,
            "visibility": null,
            "align_self": null,
            "height": null,
            "min_height": null,
            "padding": null,
            "grid_auto_rows": null,
            "grid_gap": null,
            "max_width": null,
            "order": null,
            "_view_module_version": "1.2.0",
            "grid_template_areas": null,
            "object_position": null,
            "object_fit": null,
            "grid_auto_columns": null,
            "margin": null,
            "display": null,
            "left": null
          }
        },
        "e9f593881cfd47dfb37b228f025671d3": {
          "model_module": "@jupyter-widgets/controls",
          "model_name": "HBoxModel",
          "model_module_version": "1.5.0",
          "state": {
            "_view_name": "HBoxView",
            "_dom_classes": [],
            "_model_name": "HBoxModel",
            "_view_module": "@jupyter-widgets/controls",
            "_model_module_version": "1.5.0",
            "_view_count": null,
            "_view_module_version": "1.5.0",
            "box_style": "",
            "layout": "IPY_MODEL_1c2458bb4f8445deb0f1db39d4f8d1a7",
            "_model_module": "@jupyter-widgets/controls",
            "children": [
              "IPY_MODEL_66c2d7206f9a4eecbc5af489f99ac833",
              "IPY_MODEL_e394a4f838b1456a95b2c0e1899b6da3",
              "IPY_MODEL_c3098cb516784607aa6147cec0b2a891"
            ]
          }
        },
        "1c2458bb4f8445deb0f1db39d4f8d1a7": {
          "model_module": "@jupyter-widgets/base",
          "model_name": "LayoutModel",
          "model_module_version": "1.2.0",
          "state": {
            "_view_name": "LayoutView",
            "grid_template_rows": null,
            "right": null,
            "justify_content": null,
            "_view_module": "@jupyter-widgets/base",
            "overflow": null,
            "_model_module_version": "1.2.0",
            "_view_count": null,
            "flex_flow": null,
            "width": null,
            "min_width": null,
            "border": null,
            "align_items": null,
            "bottom": null,
            "_model_module": "@jupyter-widgets/base",
            "top": null,
            "grid_column": null,
            "overflow_y": null,
            "overflow_x": null,
            "grid_auto_flow": null,
            "grid_area": null,
            "grid_template_columns": null,
            "flex": null,
            "_model_name": "LayoutModel",
            "justify_items": null,
            "grid_row": null,
            "max_height": null,
            "align_content": null,
            "visibility": null,
            "align_self": null,
            "height": null,
            "min_height": null,
            "padding": null,
            "grid_auto_rows": null,
            "grid_gap": null,
            "max_width": null,
            "order": null,
            "_view_module_version": "1.2.0",
            "grid_template_areas": null,
            "object_position": null,
            "object_fit": null,
            "grid_auto_columns": null,
            "margin": null,
            "display": null,
            "left": null
          }
        },
        "66c2d7206f9a4eecbc5af489f99ac833": {
          "model_module": "@jupyter-widgets/controls",
          "model_name": "HTMLModel",
          "model_module_version": "1.5.0",
          "state": {
            "_view_name": "HTMLView",
            "style": "IPY_MODEL_9582c0b138554b24af17660cacd7b83e",
            "_dom_classes": [],
            "description": "",
            "_model_name": "HTMLModel",
            "placeholder": "​",
            "_view_module": "@jupyter-widgets/controls",
            "_model_module_version": "1.5.0",
            "value": "Evaluating...: 100%",
            "_view_count": null,
            "_view_module_version": "1.5.0",
            "description_tooltip": null,
            "_model_module": "@jupyter-widgets/controls",
            "layout": "IPY_MODEL_f51aabb115f246f98fc2ac512f35c418"
          }
        },
        "e394a4f838b1456a95b2c0e1899b6da3": {
          "model_module": "@jupyter-widgets/controls",
          "model_name": "FloatProgressModel",
          "model_module_version": "1.5.0",
          "state": {
            "_view_name": "ProgressView",
            "style": "IPY_MODEL_6e0e19428591408c812852edf2d031b5",
            "_dom_classes": [],
            "description": "",
            "_model_name": "FloatProgressModel",
            "bar_style": "",
            "max": 136,
            "_view_module": "@jupyter-widgets/controls",
            "_model_module_version": "1.5.0",
            "value": 136,
            "_view_count": null,
            "_view_module_version": "1.5.0",
            "orientation": "horizontal",
            "min": 0,
            "description_tooltip": null,
            "_model_module": "@jupyter-widgets/controls",
            "layout": "IPY_MODEL_0eae5a144713432cb66d2ebd99ddbf98"
          }
        },
        "c3098cb516784607aa6147cec0b2a891": {
          "model_module": "@jupyter-widgets/controls",
          "model_name": "HTMLModel",
          "model_module_version": "1.5.0",
          "state": {
            "_view_name": "HTMLView",
            "style": "IPY_MODEL_d4645e86174447759c0d70f9f9427cc2",
            "_dom_classes": [],
            "description": "",
            "_model_name": "HTMLModel",
            "placeholder": "​",
            "_view_module": "@jupyter-widgets/controls",
            "_model_module_version": "1.5.0",
            "value": " 136/136 [00:47&lt;00:00,  4.97it/s]",
            "_view_count": null,
            "_view_module_version": "1.5.0",
            "description_tooltip": null,
            "_model_module": "@jupyter-widgets/controls",
            "layout": "IPY_MODEL_3d4a03638b51486794d8051cbb6f62c4"
          }
        },
        "9582c0b138554b24af17660cacd7b83e": {
          "model_module": "@jupyter-widgets/controls",
          "model_name": "DescriptionStyleModel",
          "model_module_version": "1.5.0",
          "state": {
            "_view_name": "StyleView",
            "_model_name": "DescriptionStyleModel",
            "description_width": "",
            "_view_module": "@jupyter-widgets/base",
            "_model_module_version": "1.5.0",
            "_view_count": null,
            "_view_module_version": "1.2.0",
            "_model_module": "@jupyter-widgets/controls"
          }
        },
        "f51aabb115f246f98fc2ac512f35c418": {
          "model_module": "@jupyter-widgets/base",
          "model_name": "LayoutModel",
          "model_module_version": "1.2.0",
          "state": {
            "_view_name": "LayoutView",
            "grid_template_rows": null,
            "right": null,
            "justify_content": null,
            "_view_module": "@jupyter-widgets/base",
            "overflow": null,
            "_model_module_version": "1.2.0",
            "_view_count": null,
            "flex_flow": null,
            "width": null,
            "min_width": null,
            "border": null,
            "align_items": null,
            "bottom": null,
            "_model_module": "@jupyter-widgets/base",
            "top": null,
            "grid_column": null,
            "overflow_y": null,
            "overflow_x": null,
            "grid_auto_flow": null,
            "grid_area": null,
            "grid_template_columns": null,
            "flex": null,
            "_model_name": "LayoutModel",
            "justify_items": null,
            "grid_row": null,
            "max_height": null,
            "align_content": null,
            "visibility": null,
            "align_self": null,
            "height": null,
            "min_height": null,
            "padding": null,
            "grid_auto_rows": null,
            "grid_gap": null,
            "max_width": null,
            "order": null,
            "_view_module_version": "1.2.0",
            "grid_template_areas": null,
            "object_position": null,
            "object_fit": null,
            "grid_auto_columns": null,
            "margin": null,
            "display": null,
            "left": null
          }
        },
        "6e0e19428591408c812852edf2d031b5": {
          "model_module": "@jupyter-widgets/controls",
          "model_name": "ProgressStyleModel",
          "model_module_version": "1.5.0",
          "state": {
            "_view_name": "StyleView",
            "_model_name": "ProgressStyleModel",
            "description_width": "",
            "_view_module": "@jupyter-widgets/base",
            "_model_module_version": "1.5.0",
            "_view_count": null,
            "_view_module_version": "1.2.0",
            "bar_color": null,
            "_model_module": "@jupyter-widgets/controls"
          }
        },
        "0eae5a144713432cb66d2ebd99ddbf98": {
          "model_module": "@jupyter-widgets/base",
          "model_name": "LayoutModel",
          "model_module_version": "1.2.0",
          "state": {
            "_view_name": "LayoutView",
            "grid_template_rows": null,
            "right": null,
            "justify_content": null,
            "_view_module": "@jupyter-widgets/base",
            "overflow": null,
            "_model_module_version": "1.2.0",
            "_view_count": null,
            "flex_flow": null,
            "width": null,
            "min_width": null,
            "border": null,
            "align_items": null,
            "bottom": null,
            "_model_module": "@jupyter-widgets/base",
            "top": null,
            "grid_column": null,
            "overflow_y": null,
            "overflow_x": null,
            "grid_auto_flow": null,
            "grid_area": null,
            "grid_template_columns": null,
            "flex": null,
            "_model_name": "LayoutModel",
            "justify_items": null,
            "grid_row": null,
            "max_height": null,
            "align_content": null,
            "visibility": null,
            "align_self": null,
            "height": null,
            "min_height": null,
            "padding": null,
            "grid_auto_rows": null,
            "grid_gap": null,
            "max_width": null,
            "order": null,
            "_view_module_version": "1.2.0",
            "grid_template_areas": null,
            "object_position": null,
            "object_fit": null,
            "grid_auto_columns": null,
            "margin": null,
            "display": null,
            "left": null
          }
        },
        "d4645e86174447759c0d70f9f9427cc2": {
          "model_module": "@jupyter-widgets/controls",
          "model_name": "DescriptionStyleModel",
          "model_module_version": "1.5.0",
          "state": {
            "_view_name": "StyleView",
            "_model_name": "DescriptionStyleModel",
            "description_width": "",
            "_view_module": "@jupyter-widgets/base",
            "_model_module_version": "1.5.0",
            "_view_count": null,
            "_view_module_version": "1.2.0",
            "_model_module": "@jupyter-widgets/controls"
          }
        },
        "3d4a03638b51486794d8051cbb6f62c4": {
          "model_module": "@jupyter-widgets/base",
          "model_name": "LayoutModel",
          "model_module_version": "1.2.0",
          "state": {
            "_view_name": "LayoutView",
            "grid_template_rows": null,
            "right": null,
            "justify_content": null,
            "_view_module": "@jupyter-widgets/base",
            "overflow": null,
            "_model_module_version": "1.2.0",
            "_view_count": null,
            "flex_flow": null,
            "width": null,
            "min_width": null,
            "border": null,
            "align_items": null,
            "bottom": null,
            "_model_module": "@jupyter-widgets/base",
            "top": null,
            "grid_column": null,
            "overflow_y": null,
            "overflow_x": null,
            "grid_auto_flow": null,
            "grid_area": null,
            "grid_template_columns": null,
            "flex": null,
            "_model_name": "LayoutModel",
            "justify_items": null,
            "grid_row": null,
            "max_height": null,
            "align_content": null,
            "visibility": null,
            "align_self": null,
            "height": null,
            "min_height": null,
            "padding": null,
            "grid_auto_rows": null,
            "grid_gap": null,
            "max_width": null,
            "order": null,
            "_view_module_version": "1.2.0",
            "grid_template_areas": null,
            "object_position": null,
            "object_fit": null,
            "grid_auto_columns": null,
            "margin": null,
            "display": null,
            "left": null
          }
        },
        "7171d36efa0747afabdf9296342d8304": {
          "model_module": "@jupyter-widgets/controls",
          "model_name": "HBoxModel",
          "model_module_version": "1.5.0",
          "state": {
            "_view_name": "HBoxView",
            "_dom_classes": [],
            "_model_name": "HBoxModel",
            "_view_module": "@jupyter-widgets/controls",
            "_model_module_version": "1.5.0",
            "_view_count": null,
            "_view_module_version": "1.5.0",
            "box_style": "",
            "layout": "IPY_MODEL_3bd702f3e49e4403b0cd343b5cf9560d",
            "_model_module": "@jupyter-widgets/controls",
            "children": [
              "IPY_MODEL_6301c9f19e81477ba34a07b78e244391",
              "IPY_MODEL_3e704fde019a4cee960b1afe437e059b",
              "IPY_MODEL_2a9f9c08d4584dfbb0a26c2bc9b7191b"
            ]
          }
        },
        "3bd702f3e49e4403b0cd343b5cf9560d": {
          "model_module": "@jupyter-widgets/base",
          "model_name": "LayoutModel",
          "model_module_version": "1.2.0",
          "state": {
            "_view_name": "LayoutView",
            "grid_template_rows": null,
            "right": null,
            "justify_content": null,
            "_view_module": "@jupyter-widgets/base",
            "overflow": null,
            "_model_module_version": "1.2.0",
            "_view_count": null,
            "flex_flow": null,
            "width": null,
            "min_width": null,
            "border": null,
            "align_items": null,
            "bottom": null,
            "_model_module": "@jupyter-widgets/base",
            "top": null,
            "grid_column": null,
            "overflow_y": null,
            "overflow_x": null,
            "grid_auto_flow": null,
            "grid_area": null,
            "grid_template_columns": null,
            "flex": null,
            "_model_name": "LayoutModel",
            "justify_items": null,
            "grid_row": null,
            "max_height": null,
            "align_content": null,
            "visibility": null,
            "align_self": null,
            "height": null,
            "min_height": null,
            "padding": null,
            "grid_auto_rows": null,
            "grid_gap": null,
            "max_width": null,
            "order": null,
            "_view_module_version": "1.2.0",
            "grid_template_areas": null,
            "object_position": null,
            "object_fit": null,
            "grid_auto_columns": null,
            "margin": null,
            "display": null,
            "left": null
          }
        },
        "6301c9f19e81477ba34a07b78e244391": {
          "model_module": "@jupyter-widgets/controls",
          "model_name": "HTMLModel",
          "model_module_version": "1.5.0",
          "state": {
            "_view_name": "HTMLView",
            "style": "IPY_MODEL_9de04d8feba54cf09b4933be743b80a7",
            "_dom_classes": [],
            "description": "",
            "_model_name": "HTMLModel",
            "placeholder": "​",
            "_view_module": "@jupyter-widgets/controls",
            "_model_module_version": "1.5.0",
            "value": "Training...:  13%",
            "_view_count": null,
            "_view_module_version": "1.5.0",
            "description_tooltip": null,
            "_model_module": "@jupyter-widgets/controls",
            "layout": "IPY_MODEL_6486d12946d94ecc848d2016a74da860"
          }
        },
        "3e704fde019a4cee960b1afe437e059b": {
          "model_module": "@jupyter-widgets/controls",
          "model_name": "FloatProgressModel",
          "model_module_version": "1.5.0",
          "state": {
            "_view_name": "ProgressView",
            "style": "IPY_MODEL_dce6caeb0dea4024889e5c9b536dff79",
            "_dom_classes": [],
            "description": "",
            "_model_name": "FloatProgressModel",
            "bar_style": "danger",
            "max": 682,
            "_view_module": "@jupyter-widgets/controls",
            "_model_module_version": "1.5.0",
            "value": 86,
            "_view_count": null,
            "_view_module_version": "1.5.0",
            "orientation": "horizontal",
            "min": 0,
            "description_tooltip": null,
            "_model_module": "@jupyter-widgets/controls",
            "layout": "IPY_MODEL_5dabb317af304013aa835289d1213179"
          }
        },
        "2a9f9c08d4584dfbb0a26c2bc9b7191b": {
          "model_module": "@jupyter-widgets/controls",
          "model_name": "HTMLModel",
          "model_module_version": "1.5.0",
          "state": {
            "_view_name": "HTMLView",
            "style": "IPY_MODEL_faaa35e2a9fb4205a1d48eaac219c988",
            "_dom_classes": [],
            "description": "",
            "_model_name": "HTMLModel",
            "placeholder": "​",
            "_view_module": "@jupyter-widgets/controls",
            "_model_module_version": "1.5.0",
            "value": " 86/682 [52:39&lt;5:54:28, 35.68s/it]",
            "_view_count": null,
            "_view_module_version": "1.5.0",
            "description_tooltip": null,
            "_model_module": "@jupyter-widgets/controls",
            "layout": "IPY_MODEL_fdbfe2ebfdb046f0a1107419ec24b402"
          }
        },
        "9de04d8feba54cf09b4933be743b80a7": {
          "model_module": "@jupyter-widgets/controls",
          "model_name": "DescriptionStyleModel",
          "model_module_version": "1.5.0",
          "state": {
            "_view_name": "StyleView",
            "_model_name": "DescriptionStyleModel",
            "description_width": "",
            "_view_module": "@jupyter-widgets/base",
            "_model_module_version": "1.5.0",
            "_view_count": null,
            "_view_module_version": "1.2.0",
            "_model_module": "@jupyter-widgets/controls"
          }
        },
        "6486d12946d94ecc848d2016a74da860": {
          "model_module": "@jupyter-widgets/base",
          "model_name": "LayoutModel",
          "model_module_version": "1.2.0",
          "state": {
            "_view_name": "LayoutView",
            "grid_template_rows": null,
            "right": null,
            "justify_content": null,
            "_view_module": "@jupyter-widgets/base",
            "overflow": null,
            "_model_module_version": "1.2.0",
            "_view_count": null,
            "flex_flow": null,
            "width": null,
            "min_width": null,
            "border": null,
            "align_items": null,
            "bottom": null,
            "_model_module": "@jupyter-widgets/base",
            "top": null,
            "grid_column": null,
            "overflow_y": null,
            "overflow_x": null,
            "grid_auto_flow": null,
            "grid_area": null,
            "grid_template_columns": null,
            "flex": null,
            "_model_name": "LayoutModel",
            "justify_items": null,
            "grid_row": null,
            "max_height": null,
            "align_content": null,
            "visibility": null,
            "align_self": null,
            "height": null,
            "min_height": null,
            "padding": null,
            "grid_auto_rows": null,
            "grid_gap": null,
            "max_width": null,
            "order": null,
            "_view_module_version": "1.2.0",
            "grid_template_areas": null,
            "object_position": null,
            "object_fit": null,
            "grid_auto_columns": null,
            "margin": null,
            "display": null,
            "left": null
          }
        },
        "dce6caeb0dea4024889e5c9b536dff79": {
          "model_module": "@jupyter-widgets/controls",
          "model_name": "ProgressStyleModel",
          "model_module_version": "1.5.0",
          "state": {
            "_view_name": "StyleView",
            "_model_name": "ProgressStyleModel",
            "description_width": "",
            "_view_module": "@jupyter-widgets/base",
            "_model_module_version": "1.5.0",
            "_view_count": null,
            "_view_module_version": "1.2.0",
            "bar_color": null,
            "_model_module": "@jupyter-widgets/controls"
          }
        },
        "5dabb317af304013aa835289d1213179": {
          "model_module": "@jupyter-widgets/base",
          "model_name": "LayoutModel",
          "model_module_version": "1.2.0",
          "state": {
            "_view_name": "LayoutView",
            "grid_template_rows": null,
            "right": null,
            "justify_content": null,
            "_view_module": "@jupyter-widgets/base",
            "overflow": null,
            "_model_module_version": "1.2.0",
            "_view_count": null,
            "flex_flow": null,
            "width": null,
            "min_width": null,
            "border": null,
            "align_items": null,
            "bottom": null,
            "_model_module": "@jupyter-widgets/base",
            "top": null,
            "grid_column": null,
            "overflow_y": null,
            "overflow_x": null,
            "grid_auto_flow": null,
            "grid_area": null,
            "grid_template_columns": null,
            "flex": null,
            "_model_name": "LayoutModel",
            "justify_items": null,
            "grid_row": null,
            "max_height": null,
            "align_content": null,
            "visibility": null,
            "align_self": null,
            "height": null,
            "min_height": null,
            "padding": null,
            "grid_auto_rows": null,
            "grid_gap": null,
            "max_width": null,
            "order": null,
            "_view_module_version": "1.2.0",
            "grid_template_areas": null,
            "object_position": null,
            "object_fit": null,
            "grid_auto_columns": null,
            "margin": null,
            "display": null,
            "left": null
          }
        },
        "faaa35e2a9fb4205a1d48eaac219c988": {
          "model_module": "@jupyter-widgets/controls",
          "model_name": "DescriptionStyleModel",
          "model_module_version": "1.5.0",
          "state": {
            "_view_name": "StyleView",
            "_model_name": "DescriptionStyleModel",
            "description_width": "",
            "_view_module": "@jupyter-widgets/base",
            "_model_module_version": "1.5.0",
            "_view_count": null,
            "_view_module_version": "1.2.0",
            "_model_module": "@jupyter-widgets/controls"
          }
        },
        "fdbfe2ebfdb046f0a1107419ec24b402": {
          "model_module": "@jupyter-widgets/base",
          "model_name": "LayoutModel",
          "model_module_version": "1.2.0",
          "state": {
            "_view_name": "LayoutView",
            "grid_template_rows": null,
            "right": null,
            "justify_content": null,
            "_view_module": "@jupyter-widgets/base",
            "overflow": null,
            "_model_module_version": "1.2.0",
            "_view_count": null,
            "flex_flow": null,
            "width": null,
            "min_width": null,
            "border": null,
            "align_items": null,
            "bottom": null,
            "_model_module": "@jupyter-widgets/base",
            "top": null,
            "grid_column": null,
            "overflow_y": null,
            "overflow_x": null,
            "grid_auto_flow": null,
            "grid_area": null,
            "grid_template_columns": null,
            "flex": null,
            "_model_name": "LayoutModel",
            "justify_items": null,
            "grid_row": null,
            "max_height": null,
            "align_content": null,
            "visibility": null,
            "align_self": null,
            "height": null,
            "min_height": null,
            "padding": null,
            "grid_auto_rows": null,
            "grid_gap": null,
            "max_width": null,
            "order": null,
            "_view_module_version": "1.2.0",
            "grid_template_areas": null,
            "object_position": null,
            "object_fit": null,
            "grid_auto_columns": null,
            "margin": null,
            "display": null,
            "left": null
          }
        },
        "8c485e8615584f3eafaffd74ef008218": {
          "model_module": "@jupyter-widgets/controls",
          "model_name": "HBoxModel",
          "model_module_version": "1.5.0",
          "state": {
            "_view_name": "HBoxView",
            "_dom_classes": [],
            "_model_name": "HBoxModel",
            "_view_module": "@jupyter-widgets/controls",
            "_model_module_version": "1.5.0",
            "_view_count": null,
            "_view_module_version": "1.5.0",
            "box_style": "",
            "layout": "IPY_MODEL_84df639eb7cf45e7ab8a292b21ff7b56",
            "_model_module": "@jupyter-widgets/controls",
            "children": [
              "IPY_MODEL_97762563f8c5463d9e0958beddb3909a",
              "IPY_MODEL_9e65aae86b5e4283b675083b8767ca49",
              "IPY_MODEL_2a0a9846eb484798b5b757484bcd0b25"
            ]
          }
        },
        "84df639eb7cf45e7ab8a292b21ff7b56": {
          "model_module": "@jupyter-widgets/base",
          "model_name": "LayoutModel",
          "model_module_version": "1.2.0",
          "state": {
            "_view_name": "LayoutView",
            "grid_template_rows": null,
            "right": null,
            "justify_content": null,
            "_view_module": "@jupyter-widgets/base",
            "overflow": null,
            "_model_module_version": "1.2.0",
            "_view_count": null,
            "flex_flow": null,
            "width": null,
            "min_width": null,
            "border": null,
            "align_items": null,
            "bottom": null,
            "_model_module": "@jupyter-widgets/base",
            "top": null,
            "grid_column": null,
            "overflow_y": null,
            "overflow_x": null,
            "grid_auto_flow": null,
            "grid_area": null,
            "grid_template_columns": null,
            "flex": null,
            "_model_name": "LayoutModel",
            "justify_items": null,
            "grid_row": null,
            "max_height": null,
            "align_content": null,
            "visibility": null,
            "align_self": null,
            "height": null,
            "min_height": null,
            "padding": null,
            "grid_auto_rows": null,
            "grid_gap": null,
            "max_width": null,
            "order": null,
            "_view_module_version": "1.2.0",
            "grid_template_areas": null,
            "object_position": null,
            "object_fit": null,
            "grid_auto_columns": null,
            "margin": null,
            "display": null,
            "left": null
          }
        },
        "97762563f8c5463d9e0958beddb3909a": {
          "model_module": "@jupyter-widgets/controls",
          "model_name": "HTMLModel",
          "model_module_version": "1.5.0",
          "state": {
            "_view_name": "HTMLView",
            "style": "IPY_MODEL_228efb70ad3d411587038ebedac9d8d6",
            "_dom_classes": [],
            "description": "",
            "_model_name": "HTMLModel",
            "placeholder": "​",
            "_view_module": "@jupyter-widgets/controls",
            "_model_module_version": "1.5.0",
            "value": "Evaluating...: 100%",
            "_view_count": null,
            "_view_module_version": "1.5.0",
            "description_tooltip": null,
            "_model_module": "@jupyter-widgets/controls",
            "layout": "IPY_MODEL_c95183f7402540b2ae05a566b2de2909"
          }
        },
        "9e65aae86b5e4283b675083b8767ca49": {
          "model_module": "@jupyter-widgets/controls",
          "model_name": "FloatProgressModel",
          "model_module_version": "1.5.0",
          "state": {
            "_view_name": "ProgressView",
            "style": "IPY_MODEL_a179f1daebb94431be4c0f71520ec97b",
            "_dom_classes": [],
            "description": "",
            "_model_name": "FloatProgressModel",
            "bar_style": "",
            "max": 136,
            "_view_module": "@jupyter-widgets/controls",
            "_model_module_version": "1.5.0",
            "value": 136,
            "_view_count": null,
            "_view_module_version": "1.5.0",
            "orientation": "horizontal",
            "min": 0,
            "description_tooltip": null,
            "_model_module": "@jupyter-widgets/controls",
            "layout": "IPY_MODEL_01a100d1ce124e6fb8cc8cdcca91ad32"
          }
        },
        "2a0a9846eb484798b5b757484bcd0b25": {
          "model_module": "@jupyter-widgets/controls",
          "model_name": "HTMLModel",
          "model_module_version": "1.5.0",
          "state": {
            "_view_name": "HTMLView",
            "style": "IPY_MODEL_1bab6e3104b94689ba10a416d37427fb",
            "_dom_classes": [],
            "description": "",
            "_model_name": "HTMLModel",
            "placeholder": "​",
            "_view_module": "@jupyter-widgets/controls",
            "_model_module_version": "1.5.0",
            "value": " 136/136 [00:27&lt;00:00,  4.97it/s]",
            "_view_count": null,
            "_view_module_version": "1.5.0",
            "description_tooltip": null,
            "_model_module": "@jupyter-widgets/controls",
            "layout": "IPY_MODEL_a92204baf78645619927ea33cd21cf70"
          }
        },
        "228efb70ad3d411587038ebedac9d8d6": {
          "model_module": "@jupyter-widgets/controls",
          "model_name": "DescriptionStyleModel",
          "model_module_version": "1.5.0",
          "state": {
            "_view_name": "StyleView",
            "_model_name": "DescriptionStyleModel",
            "description_width": "",
            "_view_module": "@jupyter-widgets/base",
            "_model_module_version": "1.5.0",
            "_view_count": null,
            "_view_module_version": "1.2.0",
            "_model_module": "@jupyter-widgets/controls"
          }
        },
        "c95183f7402540b2ae05a566b2de2909": {
          "model_module": "@jupyter-widgets/base",
          "model_name": "LayoutModel",
          "model_module_version": "1.2.0",
          "state": {
            "_view_name": "LayoutView",
            "grid_template_rows": null,
            "right": null,
            "justify_content": null,
            "_view_module": "@jupyter-widgets/base",
            "overflow": null,
            "_model_module_version": "1.2.0",
            "_view_count": null,
            "flex_flow": null,
            "width": null,
            "min_width": null,
            "border": null,
            "align_items": null,
            "bottom": null,
            "_model_module": "@jupyter-widgets/base",
            "top": null,
            "grid_column": null,
            "overflow_y": null,
            "overflow_x": null,
            "grid_auto_flow": null,
            "grid_area": null,
            "grid_template_columns": null,
            "flex": null,
            "_model_name": "LayoutModel",
            "justify_items": null,
            "grid_row": null,
            "max_height": null,
            "align_content": null,
            "visibility": null,
            "align_self": null,
            "height": null,
            "min_height": null,
            "padding": null,
            "grid_auto_rows": null,
            "grid_gap": null,
            "max_width": null,
            "order": null,
            "_view_module_version": "1.2.0",
            "grid_template_areas": null,
            "object_position": null,
            "object_fit": null,
            "grid_auto_columns": null,
            "margin": null,
            "display": null,
            "left": null
          }
        },
        "a179f1daebb94431be4c0f71520ec97b": {
          "model_module": "@jupyter-widgets/controls",
          "model_name": "ProgressStyleModel",
          "model_module_version": "1.5.0",
          "state": {
            "_view_name": "StyleView",
            "_model_name": "ProgressStyleModel",
            "description_width": "",
            "_view_module": "@jupyter-widgets/base",
            "_model_module_version": "1.5.0",
            "_view_count": null,
            "_view_module_version": "1.2.0",
            "bar_color": null,
            "_model_module": "@jupyter-widgets/controls"
          }
        },
        "01a100d1ce124e6fb8cc8cdcca91ad32": {
          "model_module": "@jupyter-widgets/base",
          "model_name": "LayoutModel",
          "model_module_version": "1.2.0",
          "state": {
            "_view_name": "LayoutView",
            "grid_template_rows": null,
            "right": null,
            "justify_content": null,
            "_view_module": "@jupyter-widgets/base",
            "overflow": null,
            "_model_module_version": "1.2.0",
            "_view_count": null,
            "flex_flow": null,
            "width": null,
            "min_width": null,
            "border": null,
            "align_items": null,
            "bottom": null,
            "_model_module": "@jupyter-widgets/base",
            "top": null,
            "grid_column": null,
            "overflow_y": null,
            "overflow_x": null,
            "grid_auto_flow": null,
            "grid_area": null,
            "grid_template_columns": null,
            "flex": null,
            "_model_name": "LayoutModel",
            "justify_items": null,
            "grid_row": null,
            "max_height": null,
            "align_content": null,
            "visibility": null,
            "align_self": null,
            "height": null,
            "min_height": null,
            "padding": null,
            "grid_auto_rows": null,
            "grid_gap": null,
            "max_width": null,
            "order": null,
            "_view_module_version": "1.2.0",
            "grid_template_areas": null,
            "object_position": null,
            "object_fit": null,
            "grid_auto_columns": null,
            "margin": null,
            "display": null,
            "left": null
          }
        },
        "1bab6e3104b94689ba10a416d37427fb": {
          "model_module": "@jupyter-widgets/controls",
          "model_name": "DescriptionStyleModel",
          "model_module_version": "1.5.0",
          "state": {
            "_view_name": "StyleView",
            "_model_name": "DescriptionStyleModel",
            "description_width": "",
            "_view_module": "@jupyter-widgets/base",
            "_model_module_version": "1.5.0",
            "_view_count": null,
            "_view_module_version": "1.2.0",
            "_model_module": "@jupyter-widgets/controls"
          }
        },
        "a92204baf78645619927ea33cd21cf70": {
          "model_module": "@jupyter-widgets/base",
          "model_name": "LayoutModel",
          "model_module_version": "1.2.0",
          "state": {
            "_view_name": "LayoutView",
            "grid_template_rows": null,
            "right": null,
            "justify_content": null,
            "_view_module": "@jupyter-widgets/base",
            "overflow": null,
            "_model_module_version": "1.2.0",
            "_view_count": null,
            "flex_flow": null,
            "width": null,
            "min_width": null,
            "border": null,
            "align_items": null,
            "bottom": null,
            "_model_module": "@jupyter-widgets/base",
            "top": null,
            "grid_column": null,
            "overflow_y": null,
            "overflow_x": null,
            "grid_auto_flow": null,
            "grid_area": null,
            "grid_template_columns": null,
            "flex": null,
            "_model_name": "LayoutModel",
            "justify_items": null,
            "grid_row": null,
            "max_height": null,
            "align_content": null,
            "visibility": null,
            "align_self": null,
            "height": null,
            "min_height": null,
            "padding": null,
            "grid_auto_rows": null,
            "grid_gap": null,
            "max_width": null,
            "order": null,
            "_view_module_version": "1.2.0",
            "grid_template_areas": null,
            "object_position": null,
            "object_fit": null,
            "grid_auto_columns": null,
            "margin": null,
            "display": null,
            "left": null
          }
        },
        "3942e79db3c5476cbb6ff2c12141fde2": {
          "model_module": "@jupyter-widgets/controls",
          "model_name": "HBoxModel",
          "model_module_version": "1.5.0",
          "state": {
            "_view_name": "HBoxView",
            "_dom_classes": [],
            "_model_name": "HBoxModel",
            "_view_module": "@jupyter-widgets/controls",
            "_model_module_version": "1.5.0",
            "_view_count": null,
            "_view_module_version": "1.5.0",
            "box_style": "",
            "layout": "IPY_MODEL_8378d9c0e3404e688e82d99de6e5df49",
            "_model_module": "@jupyter-widgets/controls",
            "children": [
              "IPY_MODEL_48e6a6b1f52f4edbaa3e0dc0edfc0f20",
              "IPY_MODEL_e6c9f2e15c2241c6a2a14422ff09a8e4",
              "IPY_MODEL_fac565ccd87d45a1bd24cc32ba38b284"
            ]
          }
        },
        "8378d9c0e3404e688e82d99de6e5df49": {
          "model_module": "@jupyter-widgets/base",
          "model_name": "LayoutModel",
          "model_module_version": "1.2.0",
          "state": {
            "_view_name": "LayoutView",
            "grid_template_rows": null,
            "right": null,
            "justify_content": null,
            "_view_module": "@jupyter-widgets/base",
            "overflow": null,
            "_model_module_version": "1.2.0",
            "_view_count": null,
            "flex_flow": null,
            "width": null,
            "min_width": null,
            "border": null,
            "align_items": null,
            "bottom": null,
            "_model_module": "@jupyter-widgets/base",
            "top": null,
            "grid_column": null,
            "overflow_y": null,
            "overflow_x": null,
            "grid_auto_flow": null,
            "grid_area": null,
            "grid_template_columns": null,
            "flex": null,
            "_model_name": "LayoutModel",
            "justify_items": null,
            "grid_row": null,
            "max_height": null,
            "align_content": null,
            "visibility": null,
            "align_self": null,
            "height": null,
            "min_height": null,
            "padding": null,
            "grid_auto_rows": null,
            "grid_gap": null,
            "max_width": null,
            "order": null,
            "_view_module_version": "1.2.0",
            "grid_template_areas": null,
            "object_position": null,
            "object_fit": null,
            "grid_auto_columns": null,
            "margin": null,
            "display": null,
            "left": null
          }
        },
        "48e6a6b1f52f4edbaa3e0dc0edfc0f20": {
          "model_module": "@jupyter-widgets/controls",
          "model_name": "HTMLModel",
          "model_module_version": "1.5.0",
          "state": {
            "_view_name": "HTMLView",
            "style": "IPY_MODEL_b518b9b2737040dab42c7c759cfe856c",
            "_dom_classes": [],
            "description": "",
            "_model_name": "HTMLModel",
            "placeholder": "​",
            "_view_module": "@jupyter-widgets/controls",
            "_model_module_version": "1.5.0",
            "value": "Training...:  12%",
            "_view_count": null,
            "_view_module_version": "1.5.0",
            "description_tooltip": null,
            "_model_module": "@jupyter-widgets/controls",
            "layout": "IPY_MODEL_1d2b06ec876345fc80dac37634bc41d3"
          }
        },
        "e6c9f2e15c2241c6a2a14422ff09a8e4": {
          "model_module": "@jupyter-widgets/controls",
          "model_name": "FloatProgressModel",
          "model_module_version": "1.5.0",
          "state": {
            "_view_name": "ProgressView",
            "style": "IPY_MODEL_2f5f0fdc62e84d8a89f41a0186053f6f",
            "_dom_classes": [],
            "description": "",
            "_model_name": "FloatProgressModel",
            "bar_style": "danger",
            "max": 682,
            "_view_module": "@jupyter-widgets/controls",
            "_model_module_version": "1.5.0",
            "value": 84,
            "_view_count": null,
            "_view_module_version": "1.5.0",
            "orientation": "horizontal",
            "min": 0,
            "description_tooltip": null,
            "_model_module": "@jupyter-widgets/controls",
            "layout": "IPY_MODEL_3b4597066609443a94de546a75b29302"
          }
        },
        "fac565ccd87d45a1bd24cc32ba38b284": {
          "model_module": "@jupyter-widgets/controls",
          "model_name": "HTMLModel",
          "model_module_version": "1.5.0",
          "state": {
            "_view_name": "HTMLView",
            "style": "IPY_MODEL_0af7edc6cb2346bc9637c180e14d8485",
            "_dom_classes": [],
            "description": "",
            "_model_name": "HTMLModel",
            "placeholder": "​",
            "_view_module": "@jupyter-widgets/controls",
            "_model_module_version": "1.5.0",
            "value": " 86/682 [52:45&lt;5:54:13, 35.66s/it]",
            "_view_count": null,
            "_view_module_version": "1.5.0",
            "description_tooltip": null,
            "_model_module": "@jupyter-widgets/controls",
            "layout": "IPY_MODEL_024e4220b29847ad8f52aa001359bcaa"
          }
        },
        "b518b9b2737040dab42c7c759cfe856c": {
          "model_module": "@jupyter-widgets/controls",
          "model_name": "DescriptionStyleModel",
          "model_module_version": "1.5.0",
          "state": {
            "_view_name": "StyleView",
            "_model_name": "DescriptionStyleModel",
            "description_width": "",
            "_view_module": "@jupyter-widgets/base",
            "_model_module_version": "1.5.0",
            "_view_count": null,
            "_view_module_version": "1.2.0",
            "_model_module": "@jupyter-widgets/controls"
          }
        },
        "1d2b06ec876345fc80dac37634bc41d3": {
          "model_module": "@jupyter-widgets/base",
          "model_name": "LayoutModel",
          "model_module_version": "1.2.0",
          "state": {
            "_view_name": "LayoutView",
            "grid_template_rows": null,
            "right": null,
            "justify_content": null,
            "_view_module": "@jupyter-widgets/base",
            "overflow": null,
            "_model_module_version": "1.2.0",
            "_view_count": null,
            "flex_flow": null,
            "width": null,
            "min_width": null,
            "border": null,
            "align_items": null,
            "bottom": null,
            "_model_module": "@jupyter-widgets/base",
            "top": null,
            "grid_column": null,
            "overflow_y": null,
            "overflow_x": null,
            "grid_auto_flow": null,
            "grid_area": null,
            "grid_template_columns": null,
            "flex": null,
            "_model_name": "LayoutModel",
            "justify_items": null,
            "grid_row": null,
            "max_height": null,
            "align_content": null,
            "visibility": null,
            "align_self": null,
            "height": null,
            "min_height": null,
            "padding": null,
            "grid_auto_rows": null,
            "grid_gap": null,
            "max_width": null,
            "order": null,
            "_view_module_version": "1.2.0",
            "grid_template_areas": null,
            "object_position": null,
            "object_fit": null,
            "grid_auto_columns": null,
            "margin": null,
            "display": null,
            "left": null
          }
        },
        "2f5f0fdc62e84d8a89f41a0186053f6f": {
          "model_module": "@jupyter-widgets/controls",
          "model_name": "ProgressStyleModel",
          "model_module_version": "1.5.0",
          "state": {
            "_view_name": "StyleView",
            "_model_name": "ProgressStyleModel",
            "description_width": "",
            "_view_module": "@jupyter-widgets/base",
            "_model_module_version": "1.5.0",
            "_view_count": null,
            "_view_module_version": "1.2.0",
            "bar_color": null,
            "_model_module": "@jupyter-widgets/controls"
          }
        },
        "3b4597066609443a94de546a75b29302": {
          "model_module": "@jupyter-widgets/base",
          "model_name": "LayoutModel",
          "model_module_version": "1.2.0",
          "state": {
            "_view_name": "LayoutView",
            "grid_template_rows": null,
            "right": null,
            "justify_content": null,
            "_view_module": "@jupyter-widgets/base",
            "overflow": null,
            "_model_module_version": "1.2.0",
            "_view_count": null,
            "flex_flow": null,
            "width": null,
            "min_width": null,
            "border": null,
            "align_items": null,
            "bottom": null,
            "_model_module": "@jupyter-widgets/base",
            "top": null,
            "grid_column": null,
            "overflow_y": null,
            "overflow_x": null,
            "grid_auto_flow": null,
            "grid_area": null,
            "grid_template_columns": null,
            "flex": null,
            "_model_name": "LayoutModel",
            "justify_items": null,
            "grid_row": null,
            "max_height": null,
            "align_content": null,
            "visibility": null,
            "align_self": null,
            "height": null,
            "min_height": null,
            "padding": null,
            "grid_auto_rows": null,
            "grid_gap": null,
            "max_width": null,
            "order": null,
            "_view_module_version": "1.2.0",
            "grid_template_areas": null,
            "object_position": null,
            "object_fit": null,
            "grid_auto_columns": null,
            "margin": null,
            "display": null,
            "left": null
          }
        },
        "0af7edc6cb2346bc9637c180e14d8485": {
          "model_module": "@jupyter-widgets/controls",
          "model_name": "DescriptionStyleModel",
          "model_module_version": "1.5.0",
          "state": {
            "_view_name": "StyleView",
            "_model_name": "DescriptionStyleModel",
            "description_width": "",
            "_view_module": "@jupyter-widgets/base",
            "_model_module_version": "1.5.0",
            "_view_count": null,
            "_view_module_version": "1.2.0",
            "_model_module": "@jupyter-widgets/controls"
          }
        },
        "024e4220b29847ad8f52aa001359bcaa": {
          "model_module": "@jupyter-widgets/base",
          "model_name": "LayoutModel",
          "model_module_version": "1.2.0",
          "state": {
            "_view_name": "LayoutView",
            "grid_template_rows": null,
            "right": null,
            "justify_content": null,
            "_view_module": "@jupyter-widgets/base",
            "overflow": null,
            "_model_module_version": "1.2.0",
            "_view_count": null,
            "flex_flow": null,
            "width": null,
            "min_width": null,
            "border": null,
            "align_items": null,
            "bottom": null,
            "_model_module": "@jupyter-widgets/base",
            "top": null,
            "grid_column": null,
            "overflow_y": null,
            "overflow_x": null,
            "grid_auto_flow": null,
            "grid_area": null,
            "grid_template_columns": null,
            "flex": null,
            "_model_name": "LayoutModel",
            "justify_items": null,
            "grid_row": null,
            "max_height": null,
            "align_content": null,
            "visibility": null,
            "align_self": null,
            "height": null,
            "min_height": null,
            "padding": null,
            "grid_auto_rows": null,
            "grid_gap": null,
            "max_width": null,
            "order": null,
            "_view_module_version": "1.2.0",
            "grid_template_areas": null,
            "object_position": null,
            "object_fit": null,
            "grid_auto_columns": null,
            "margin": null,
            "display": null,
            "left": null
          }
        },
        "66881f0917714f0e91aa24f21e6dd08e": {
          "model_module": "@jupyter-widgets/controls",
          "model_name": "HBoxModel",
          "model_module_version": "1.5.0",
          "state": {
            "_view_name": "HBoxView",
            "_dom_classes": [],
            "_model_name": "HBoxModel",
            "_view_module": "@jupyter-widgets/controls",
            "_model_module_version": "1.5.0",
            "_view_count": null,
            "_view_module_version": "1.5.0",
            "box_style": "",
            "layout": "IPY_MODEL_28fb7603789b44bc8f167221deee5a43",
            "_model_module": "@jupyter-widgets/controls",
            "children": [
              "IPY_MODEL_2b7f203593d14cfaa68851a9ee55148a",
              "IPY_MODEL_17eb0ee520f647588ebfd5fc4ce93b55",
              "IPY_MODEL_423e9945cac64de5aa6c0d639521a250"
            ]
          }
        },
        "28fb7603789b44bc8f167221deee5a43": {
          "model_module": "@jupyter-widgets/base",
          "model_name": "LayoutModel",
          "model_module_version": "1.2.0",
          "state": {
            "_view_name": "LayoutView",
            "grid_template_rows": null,
            "right": null,
            "justify_content": null,
            "_view_module": "@jupyter-widgets/base",
            "overflow": null,
            "_model_module_version": "1.2.0",
            "_view_count": null,
            "flex_flow": null,
            "width": null,
            "min_width": null,
            "border": null,
            "align_items": null,
            "bottom": null,
            "_model_module": "@jupyter-widgets/base",
            "top": null,
            "grid_column": null,
            "overflow_y": null,
            "overflow_x": null,
            "grid_auto_flow": null,
            "grid_area": null,
            "grid_template_columns": null,
            "flex": null,
            "_model_name": "LayoutModel",
            "justify_items": null,
            "grid_row": null,
            "max_height": null,
            "align_content": null,
            "visibility": null,
            "align_self": null,
            "height": null,
            "min_height": null,
            "padding": null,
            "grid_auto_rows": null,
            "grid_gap": null,
            "max_width": null,
            "order": null,
            "_view_module_version": "1.2.0",
            "grid_template_areas": null,
            "object_position": null,
            "object_fit": null,
            "grid_auto_columns": null,
            "margin": null,
            "display": null,
            "left": null
          }
        },
        "2b7f203593d14cfaa68851a9ee55148a": {
          "model_module": "@jupyter-widgets/controls",
          "model_name": "HTMLModel",
          "model_module_version": "1.5.0",
          "state": {
            "_view_name": "HTMLView",
            "style": "IPY_MODEL_a9c0461dc85d4456b94c6b630ae74c67",
            "_dom_classes": [],
            "description": "",
            "_model_name": "HTMLModel",
            "placeholder": "​",
            "_view_module": "@jupyter-widgets/controls",
            "_model_module_version": "1.5.0",
            "value": "Training...:  10%",
            "_view_count": null,
            "_view_module_version": "1.5.0",
            "description_tooltip": null,
            "_model_module": "@jupyter-widgets/controls",
            "layout": "IPY_MODEL_aaa50e99eec84431ba971b9f158d4a38"
          }
        },
        "17eb0ee520f647588ebfd5fc4ce93b55": {
          "model_module": "@jupyter-widgets/controls",
          "model_name": "FloatProgressModel",
          "model_module_version": "1.5.0",
          "state": {
            "_view_name": "ProgressView",
            "style": "IPY_MODEL_cf83d298967d4bd4ba2454f16f8b3469",
            "_dom_classes": [],
            "description": "",
            "_model_name": "FloatProgressModel",
            "bar_style": "",
            "max": 682,
            "_view_module": "@jupyter-widgets/controls",
            "_model_module_version": "1.5.0",
            "value": 66,
            "_view_count": null,
            "_view_module_version": "1.5.0",
            "orientation": "horizontal",
            "min": 0,
            "description_tooltip": null,
            "_model_module": "@jupyter-widgets/controls",
            "layout": "IPY_MODEL_bc5f8b6fd7084c00bc9b3466f69d5832"
          }
        },
        "423e9945cac64de5aa6c0d639521a250": {
          "model_module": "@jupyter-widgets/controls",
          "model_name": "HTMLModel",
          "model_module_version": "1.5.0",
          "state": {
            "_view_name": "HTMLView",
            "style": "IPY_MODEL_c12c34ecbfb64c7d9241c47d6cd82764",
            "_dom_classes": [],
            "description": "",
            "_model_name": "HTMLModel",
            "placeholder": "​",
            "_view_module": "@jupyter-widgets/controls",
            "_model_module_version": "1.5.0",
            "value": " 66/682 [38:40&lt;6:05:16, 35.58s/it]",
            "_view_count": null,
            "_view_module_version": "1.5.0",
            "description_tooltip": null,
            "_model_module": "@jupyter-widgets/controls",
            "layout": "IPY_MODEL_7f3c4e409eda404e9d981c2049859eeb"
          }
        },
        "a9c0461dc85d4456b94c6b630ae74c67": {
          "model_module": "@jupyter-widgets/controls",
          "model_name": "DescriptionStyleModel",
          "model_module_version": "1.5.0",
          "state": {
            "_view_name": "StyleView",
            "_model_name": "DescriptionStyleModel",
            "description_width": "",
            "_view_module": "@jupyter-widgets/base",
            "_model_module_version": "1.5.0",
            "_view_count": null,
            "_view_module_version": "1.2.0",
            "_model_module": "@jupyter-widgets/controls"
          }
        },
        "aaa50e99eec84431ba971b9f158d4a38": {
          "model_module": "@jupyter-widgets/base",
          "model_name": "LayoutModel",
          "model_module_version": "1.2.0",
          "state": {
            "_view_name": "LayoutView",
            "grid_template_rows": null,
            "right": null,
            "justify_content": null,
            "_view_module": "@jupyter-widgets/base",
            "overflow": null,
            "_model_module_version": "1.2.0",
            "_view_count": null,
            "flex_flow": null,
            "width": null,
            "min_width": null,
            "border": null,
            "align_items": null,
            "bottom": null,
            "_model_module": "@jupyter-widgets/base",
            "top": null,
            "grid_column": null,
            "overflow_y": null,
            "overflow_x": null,
            "grid_auto_flow": null,
            "grid_area": null,
            "grid_template_columns": null,
            "flex": null,
            "_model_name": "LayoutModel",
            "justify_items": null,
            "grid_row": null,
            "max_height": null,
            "align_content": null,
            "visibility": null,
            "align_self": null,
            "height": null,
            "min_height": null,
            "padding": null,
            "grid_auto_rows": null,
            "grid_gap": null,
            "max_width": null,
            "order": null,
            "_view_module_version": "1.2.0",
            "grid_template_areas": null,
            "object_position": null,
            "object_fit": null,
            "grid_auto_columns": null,
            "margin": null,
            "display": null,
            "left": null
          }
        },
        "cf83d298967d4bd4ba2454f16f8b3469": {
          "model_module": "@jupyter-widgets/controls",
          "model_name": "ProgressStyleModel",
          "model_module_version": "1.5.0",
          "state": {
            "_view_name": "StyleView",
            "_model_name": "ProgressStyleModel",
            "description_width": "",
            "_view_module": "@jupyter-widgets/base",
            "_model_module_version": "1.5.0",
            "_view_count": null,
            "_view_module_version": "1.2.0",
            "bar_color": null,
            "_model_module": "@jupyter-widgets/controls"
          }
        },
        "bc5f8b6fd7084c00bc9b3466f69d5832": {
          "model_module": "@jupyter-widgets/base",
          "model_name": "LayoutModel",
          "model_module_version": "1.2.0",
          "state": {
            "_view_name": "LayoutView",
            "grid_template_rows": null,
            "right": null,
            "justify_content": null,
            "_view_module": "@jupyter-widgets/base",
            "overflow": null,
            "_model_module_version": "1.2.0",
            "_view_count": null,
            "flex_flow": null,
            "width": null,
            "min_width": null,
            "border": null,
            "align_items": null,
            "bottom": null,
            "_model_module": "@jupyter-widgets/base",
            "top": null,
            "grid_column": null,
            "overflow_y": null,
            "overflow_x": null,
            "grid_auto_flow": null,
            "grid_area": null,
            "grid_template_columns": null,
            "flex": null,
            "_model_name": "LayoutModel",
            "justify_items": null,
            "grid_row": null,
            "max_height": null,
            "align_content": null,
            "visibility": null,
            "align_self": null,
            "height": null,
            "min_height": null,
            "padding": null,
            "grid_auto_rows": null,
            "grid_gap": null,
            "max_width": null,
            "order": null,
            "_view_module_version": "1.2.0",
            "grid_template_areas": null,
            "object_position": null,
            "object_fit": null,
            "grid_auto_columns": null,
            "margin": null,
            "display": null,
            "left": null
          }
        },
        "c12c34ecbfb64c7d9241c47d6cd82764": {
          "model_module": "@jupyter-widgets/controls",
          "model_name": "DescriptionStyleModel",
          "model_module_version": "1.5.0",
          "state": {
            "_view_name": "StyleView",
            "_model_name": "DescriptionStyleModel",
            "description_width": "",
            "_view_module": "@jupyter-widgets/base",
            "_model_module_version": "1.5.0",
            "_view_count": null,
            "_view_module_version": "1.2.0",
            "_model_module": "@jupyter-widgets/controls"
          }
        },
        "7f3c4e409eda404e9d981c2049859eeb": {
          "model_module": "@jupyter-widgets/base",
          "model_name": "LayoutModel",
          "model_module_version": "1.2.0",
          "state": {
            "_view_name": "LayoutView",
            "grid_template_rows": null,
            "right": null,
            "justify_content": null,
            "_view_module": "@jupyter-widgets/base",
            "overflow": null,
            "_model_module_version": "1.2.0",
            "_view_count": null,
            "flex_flow": null,
            "width": null,
            "min_width": null,
            "border": null,
            "align_items": null,
            "bottom": null,
            "_model_module": "@jupyter-widgets/base",
            "top": null,
            "grid_column": null,
            "overflow_y": null,
            "overflow_x": null,
            "grid_auto_flow": null,
            "grid_area": null,
            "grid_template_columns": null,
            "flex": null,
            "_model_name": "LayoutModel",
            "justify_items": null,
            "grid_row": null,
            "max_height": null,
            "align_content": null,
            "visibility": null,
            "align_self": null,
            "height": null,
            "min_height": null,
            "padding": null,
            "grid_auto_rows": null,
            "grid_gap": null,
            "max_width": null,
            "order": null,
            "_view_module_version": "1.2.0",
            "grid_template_areas": null,
            "object_position": null,
            "object_fit": null,
            "grid_auto_columns": null,
            "margin": null,
            "display": null,
            "left": null
          }
        }
      }
    }
  },
  "cells": [
    {
      "cell_type": "code",
      "metadata": {
        "colab": {
          "base_uri": "https://localhost:8080/"
        },
        "id": "V3ulNg6gsdZM",
        "outputId": "3874330f-170d-4ab7-91e2-0b7ccd7462a9"
      },
      "source": [
        "!nvidia-smi"
      ],
      "execution_count": 1,
      "outputs": [
        {
          "output_type": "stream",
          "name": "stdout",
          "text": [
            "Sat Feb 19 21:35:21 2022       \n",
            "+-----------------------------------------------------------------------------+\n",
            "| NVIDIA-SMI 460.32.03    Driver Version: 460.32.03    CUDA Version: 11.2     |\n",
            "|-------------------------------+----------------------+----------------------+\n",
            "| GPU  Name        Persistence-M| Bus-Id        Disp.A | Volatile Uncorr. ECC |\n",
            "| Fan  Temp  Perf  Pwr:Usage/Cap|         Memory-Usage | GPU-Util  Compute M. |\n",
            "|                               |                      |               MIG M. |\n",
            "|===============================+======================+======================|\n",
            "|   0  Tesla K80           Off  | 00000000:00:04.0 Off |                    0 |\n",
            "| N/A   61C    P8    31W / 149W |      0MiB / 11441MiB |      0%      Default |\n",
            "|                               |                      |                  N/A |\n",
            "+-------------------------------+----------------------+----------------------+\n",
            "                                                                               \n",
            "+-----------------------------------------------------------------------------+\n",
            "| Processes:                                                                  |\n",
            "|  GPU   GI   CI        PID   Type   Process name                  GPU Memory |\n",
            "|        ID   ID                                                   Usage      |\n",
            "|=============================================================================|\n",
            "|  No running processes found                                                 |\n",
            "+-----------------------------------------------------------------------------+\n"
          ]
        }
      ]
    },
    {
      "cell_type": "markdown",
      "metadata": {
        "id": "mlfVMqWO-xWQ"
      },
      "source": [
        "## Install libraries"
      ]
    },
    {
      "cell_type": "code",
      "metadata": {
        "id": "zDuOQ3kD-yN4"
      },
      "source": [
        "%%capture\n",
        "!pip install git+https://github.com/huggingface/transformers.git\n",
        "!pip install flax jsonlines ftfy wandb\n",
        "!pip install -U tqdm\n",
        "!pip install git+https://github.com/deepmind/optax.git"
      ],
      "execution_count": 2,
      "outputs": []
    },
    {
      "cell_type": "code",
      "metadata": {
        "id": "oC5CnV33_MT1"
      },
      "source": [
        "%%capture\n",
        "!git clone https://github.com/INF800/CLIP-rsicd"
      ],
      "execution_count": 3,
      "outputs": []
    },
    {
      "cell_type": "code",
      "metadata": {
        "id": "qMTmg1jAAeAg"
      },
      "source": [
        "import sys\n",
        "sys.path += ['CLIP-rsicd']"
      ],
      "execution_count": 4,
      "outputs": []
    },
    {
      "cell_type": "markdown",
      "metadata": {
        "id": "jkt6xA5c-yta"
      },
      "source": [
        "## Imports"
      ]
    },
    {
      "cell_type": "code",
      "metadata": {
        "id": "I47SCHET_0dv",
        "colab": {
          "base_uri": "https://localhost:8080/"
        },
        "outputId": "2b658535-0564-46ee-8488-e62482d21bc6"
      },
      "source": [
        "import jax.tools.colab_tpu\n",
        "try:\n",
        "    jax.tools.colab_tpu.setup_tpu()\n",
        "    half_precision_dtype = \"bfloat16\"\n",
        "except KeyError as e:\n",
        "    half_precision_dtype = \"float16\"\n",
        "    print(\"No TPU detected\")\n",
        "\n",
        "device_count = jax.device_count()\n",
        "print(device_count)"
      ],
      "execution_count": 5,
      "outputs": [
        {
          "output_type": "stream",
          "name": "stdout",
          "text": [
            "No TPU detected\n",
            "1\n"
          ]
        }
      ]
    },
    {
      "cell_type": "code",
      "metadata": {
        "id": "lVIt4xmy9wbe"
      },
      "source": [
        "import logging\n",
        "import math\n",
        "import os\n",
        "import sys\n",
        "import time\n",
        "from dataclasses import dataclass, field\n",
        "from pathlib import Path\n",
        "from typing import Callable, Optional, List\n",
        "import json\n",
        "import jsonlines\n",
        "import shutil\n",
        "import numpy as np\n",
        "import torch\n",
        "\n",
        "from flax import training\n",
        "from tqdm.auto import tqdm\n",
        "\n",
        "import jax\n",
        "import jax.numpy as jnp\n",
        "import optax\n",
        "import transformers\n",
        "from flax import jax_utils, traverse_util\n",
        "from flax.jax_utils import unreplicate\n",
        "from flax.training import train_state\n",
        "from flax.training.common_utils import get_metrics, onehot, shard, shard_prng_key\n",
        "from flax.training.checkpoints import save_checkpoint, restore_checkpoint\n",
        "from flax.serialization import to_bytes, from_bytes\n",
        "from transformers import (\n",
        "    CONFIG_MAPPING,\n",
        "    AutoConfig,\n",
        "    FlaxCLIPModel,\n",
        "    CLIPProcessor,\n",
        "    CLIPTokenizer,\n",
        "    TrainingArguments,\n",
        "    is_tensorboard_available,\n",
        "    IntervalStrategy\n",
        "    \n",
        ")\n",
        "from transformers.testing_utils import CaptureLogger\n",
        "\n",
        "from importlib.util import find_spec\n",
        "\n",
        "logger = logging.getLogger(__name__)"
      ],
      "execution_count": 6,
      "outputs": []
    },
    {
      "cell_type": "code",
      "metadata": {
        "id": "LXIGChN5A-Ya"
      },
      "source": [
        "from utils.data import ImageTextDataset, Transform"
      ],
      "execution_count": 7,
      "outputs": []
    },
    {
      "cell_type": "markdown",
      "metadata": {
        "id": "Sad49G7xLODz"
      },
      "source": [
        "## Data"
      ]
    },
    {
      "cell_type": "markdown",
      "metadata": {
        "id": "4xqYGFFMLkBW"
      },
      "source": [
        "In this notebook we will be using [RSICD dataset](). A copy of this dataset is shared by the authors on google drive. To use it one can simply add a shrtcut to own gdrive. In my case it's `RSICD` folder."
      ]
    },
    {
      "cell_type": "code",
      "source": [
        "!pip install --upgrade --no-cache-dir gdown"
      ],
      "metadata": {
        "id": "bL62gRl0k015",
        "outputId": "38e8c3cc-5a02-4b1f-bf60-d715e28631be",
        "colab": {
          "base_uri": "https://localhost:8080/"
        }
      },
      "execution_count": 8,
      "outputs": [
        {
          "output_type": "stream",
          "name": "stdout",
          "text": [
            "Requirement already satisfied: gdown in /usr/local/lib/python3.7/dist-packages (4.2.1)\n",
            "Collecting gdown\n",
            "  Downloading gdown-4.3.0.tar.gz (13 kB)\n",
            "  Installing build dependencies ... \u001b[?25l\u001b[?25hdone\n",
            "  Getting requirements to build wheel ... \u001b[?25l\u001b[?25hdone\n",
            "    Preparing wheel metadata ... \u001b[?25l\u001b[?25hdone\n",
            "Requirement already satisfied: tqdm in /usr/local/lib/python3.7/dist-packages (from gdown) (4.62.3)\n",
            "Requirement already satisfied: six in /usr/local/lib/python3.7/dist-packages (from gdown) (1.15.0)\n",
            "Requirement already satisfied: filelock in /usr/local/lib/python3.7/dist-packages (from gdown) (3.4.2)\n",
            "Requirement already satisfied: beautifulsoup4 in /usr/local/lib/python3.7/dist-packages (from gdown) (4.6.3)\n",
            "Requirement already satisfied: requests[socks] in /usr/local/lib/python3.7/dist-packages (from gdown) (2.23.0)\n",
            "Requirement already satisfied: certifi>=2017.4.17 in /usr/local/lib/python3.7/dist-packages (from requests[socks]->gdown) (2021.10.8)\n",
            "Requirement already satisfied: idna<3,>=2.5 in /usr/local/lib/python3.7/dist-packages (from requests[socks]->gdown) (2.10)\n",
            "Requirement already satisfied: chardet<4,>=3.0.2 in /usr/local/lib/python3.7/dist-packages (from requests[socks]->gdown) (3.0.4)\n",
            "Requirement already satisfied: urllib3!=1.25.0,!=1.25.1,<1.26,>=1.21.1 in /usr/local/lib/python3.7/dist-packages (from requests[socks]->gdown) (1.24.3)\n",
            "Requirement already satisfied: PySocks!=1.5.7,>=1.5.6 in /usr/local/lib/python3.7/dist-packages (from requests[socks]->gdown) (1.7.1)\n",
            "Building wheels for collected packages: gdown\n",
            "  Building wheel for gdown (PEP 517) ... \u001b[?25l\u001b[?25hdone\n",
            "  Created wheel for gdown: filename=gdown-4.3.0-py3-none-any.whl size=14412 sha256=69ab7da98918083f7a7b1d498e2eb17bac40f59213c31f8a94ed57cec922ee49\n",
            "  Stored in directory: /tmp/pip-ephem-wheel-cache-rq3l29h0/wheels/fd/ce/f8/389eafb78bce55ea78740dfcafc3c9da6f5e70d25c0377610d\n",
            "Successfully built gdown\n",
            "Installing collected packages: gdown\n",
            "  Attempting uninstall: gdown\n",
            "    Found existing installation: gdown 4.2.1\n",
            "    Uninstalling gdown-4.2.1:\n",
            "      Successfully uninstalled gdown-4.2.1\n",
            "Successfully installed gdown-4.3.0\n"
          ]
        }
      ]
    },
    {
      "cell_type": "code",
      "metadata": {
        "id": "Rju8hL4kLQwt",
        "colab": {
          "base_uri": "https://localhost:8080/"
        },
        "outputId": "3fed3479-2500-4cac-dfaf-dd8ba8a82204"
      },
      "source": [
        "!gdown https://drive.google.com/uc?id=15YDksmpQERDE8aP_jFh2X9D1zuzn2t59"
      ],
      "execution_count": 9,
      "outputs": [
        {
          "output_type": "stream",
          "name": "stdout",
          "text": [
            "Downloading...\n",
            "From: https://drive.google.com/uc?id=15YDksmpQERDE8aP_jFh2X9D1zuzn2t59\n",
            "To: /content/RSICD.zip\n",
            "100% 483M/483M [00:06<00:00, 73.8MB/s]\n"
          ]
        }
      ]
    },
    {
      "cell_type": "code",
      "source": [
        "# !unzip /content/drive/MyDrive/gen/search_engine/training_data/UCM_captions.zip\n",
        "!unzip RSICD.zip"
      ],
      "metadata": {
        "id": "uDLASUtUFgIt",
        "outputId": "23cb7975-b9d9-4f15-ba62-4df8c88d60a7",
        "colab": {
          "base_uri": "https://localhost:8080/"
        }
      },
      "execution_count": 10,
      "outputs": [
        {
          "output_type": "stream",
          "name": "stdout",
          "text": [
            "Archive:  RSICD.zip\n",
            " extracting: RSICD/annotations_rsicd.rar  \n",
            " extracting: RSICD/RSICD_images.rar  \n"
          ]
        }
      ]
    },
    {
      "cell_type": "code",
      "metadata": {
        "id": "aZ3jO7sbMCAl"
      },
      "source": [
        "root_dir = \"/content/\"\n",
        "path = Path(root_dir + 'RSICD/')"
      ],
      "execution_count": 11,
      "outputs": []
    },
    {
      "cell_type": "code",
      "metadata": {
        "id": "fKwNemzjMqb-"
      },
      "source": [
        "%%capture\n",
        "!unrar x {path}/RSICD_images.rar ./data/"
      ],
      "execution_count": 12,
      "outputs": []
    },
    {
      "cell_type": "code",
      "metadata": {
        "id": "osdVWceFxLyr"
      },
      "source": [
        "!mv /content/data/RSICD_images/ /content/data/rsicd_images"
      ],
      "execution_count": 13,
      "outputs": []
    },
    {
      "cell_type": "code",
      "source": [
        "!rm -rf {path}\n",
        "!rm -rf RSICD.zip"
      ],
      "metadata": {
        "id": "1SW4gCIzWpUw"
      },
      "execution_count": 14,
      "outputs": []
    },
    {
      "cell_type": "markdown",
      "metadata": {
        "id": "muRsDbG_PpSF"
      },
      "source": [
        "We'll be using augmented captions for the images. The files containing those are available in our [github repo](). "
      ]
    },
    {
      "cell_type": "code",
      "source": [
        "#### download annotations"
      ],
      "metadata": {
        "id": "x9MP6lg2Qn0g"
      },
      "execution_count": 15,
      "outputs": []
    },
    {
      "cell_type": "code",
      "metadata": {
        "id": "IiiEWO-WMDSe"
      },
      "source": [
        "%%capture\n",
        "!wget -P ./data/ https://raw.githubusercontent.com/arampacha/CLIP-rsicd/master/data/textaug_train_rsicd.jsonl\n",
        "!wget -P ./data/ https://raw.githubusercontent.com/arampacha/CLIP-rsicd/master/data/textaug_valid_rsicd.jsonl\n",
        "!wget -P ./data/ https://raw.githubusercontent.com/arampacha/CLIP-rsicd/master/data/textaug_test_rsicd.jsonl"
      ],
      "execution_count": 16,
      "outputs": []
    },
    {
      "cell_type": "markdown",
      "source": [
        "> `/content/data` folder is our dataset folder with images and annotations"
      ],
      "metadata": {
        "id": "dO_JxsngQqfM"
      }
    },
    {
      "cell_type": "markdown",
      "metadata": {
        "id": "hnAbpghPQArZ"
      },
      "source": [
        "Each line in the `jsonl` file has two fields: `filename` and `captions`:"
      ]
    },
    {
      "cell_type": "code",
      "source": [
        "from PIL import Image"
      ],
      "metadata": {
        "id": "Dhtn_omBHXJw"
      },
      "execution_count": 17,
      "outputs": []
    },
    {
      "cell_type": "code",
      "metadata": {
        "colab": {
          "base_uri": "https://localhost:8080/",
          "height": 1000
        },
        "id": "ElNL6SXmQMV2",
        "outputId": "d80d2a22-2e17-44ad-a74b-c913b9e750b0"
      },
      "source": [
        "with jsonlines.open(\"/content/data/textaug_valid_rsicd.jsonl\", \"r\") as reader:\n",
        "    # line = next(iter(reader))\n",
        "    for i, line in enumerate(reader):\n",
        "      if i>3:\n",
        "        break\n",
        "\n",
        "      print(f\"filename: {line['filename']}\\n\")\n",
        "      im = Image.open(f'/content/data/{line[\"filename\"]}')\n",
        "      display(im)\n",
        "\n",
        "      print(\"captions:\")\n",
        "      for i, caption in enumerate(line[\"captions\"]):\n",
        "          print(f\"{i+1}) {caption}\")\n",
        "      print(\"\\n\\n\")"
      ],
      "execution_count": 18,
      "outputs": [
        {
          "output_type": "stream",
          "name": "stdout",
          "text": [
            "filename: rsicd_images/airport_61.jpg\n",
            "\n"
          ]
        },
        {
          "output_type": "display_data",
          "data": {
            "image/png": "[encoded data removed]",
            "text/plain": [
              "<PIL.JpegImagePlugin.JpegImageFile image mode=RGB size=224x224 at 0x7F450F051150>"
            ]
          },
          "metadata": {}
        },
        {
          "output_type": "stream",
          "name": "stdout",
          "text": [
            "captions:\n",
            "1) the asphalted and airport runways divide the field into several rounded rectangles arranged next to which buildings and a road are located.\n",
            "2) the tarmac and airport runways divide the field into several orderly arranged rounded rectangles  next to which is buildings and a road .\n",
            "3) a brown ground divided by the grey runway .\n",
            "4) we can see a simple termial building and an apron connceted with runways .\n",
            "5) some building with a parking lot are near an airport with several runways .\n",
            "\n",
            "\n",
            "\n",
            "filename: rsicd_images/airport_62.jpg\n",
            "\n"
          ]
        },
        {
          "output_type": "display_data",
          "data": {
            "image/png": "[encoded data removed]",
            "text/plain": [
              "<PIL.JpegImagePlugin.JpegImageFile image mode=RGB size=224x224 at 0x7F450EFC5F50>"
            ]
          },
          "metadata": {}
        },
        {
          "output_type": "stream",
          "name": "stdout",
          "text": [
            "captions:\n",
            "1) Many white planes are parked at the airport.\n",
            "2) a motorway is built next to the airport.\n",
            "3) a highway is built next to the airport .\n",
            "4) Many white planes are parked at the airport.\n",
            "5) many white planes are parked at the airport .\n",
            "\n",
            "\n",
            "\n",
            "filename: rsicd_images/airport_63.jpg\n",
            "\n"
          ]
        },
        {
          "output_type": "display_data",
          "data": {
            "image/png": "[encoded data removed]",
            "text/plain": [
              "<PIL.JpegImagePlugin.JpegImageFile image mode=RGB size=224x224 at 0x7F450F01C610>"
            ]
          },
          "metadata": {}
        },
        {
          "output_type": "stream",
          "name": "stdout",
          "text": [
            "captions:\n",
            "1) a parking apron with an airplane parked on and connected to a runway is lying on bare ground near which there are some square buildings.\n",
            "2) a parking apron with a plane parked on and connected to a runway is lying on the bareland  near which there are some square buildings .\n",
            "3) the airport is between a runway and the farming land .\n",
            "4) there is a simple termial building with two termial besides the apron which is connected to the runway .\n",
            "5) a plane is near some buildings and a runway in an airport .\n",
            "\n",
            "\n",
            "\n",
            "filename: rsicd_images/airport_64.jpg\n",
            "\n"
          ]
        },
        {
          "output_type": "display_data",
          "data": {
            "image/png": "[encoded data removed]",
            "text/plain": [
              "<PIL.JpegImagePlugin.JpegImageFile image mode=RGB size=224x224 at 0x7F450F7E5ED0>"
            ]
          },
          "metadata": {}
        },
        {
          "output_type": "stream",
          "name": "stdout",
          "text": [
            "captions:\n",
            "1) a ploygon terminal is built between a square surrounded by roads and runways built on the ground.\n",
            "2) a ploygon terminal building is built between a square surrounded by roads and runways built in the field .\n",
            "3) a square boarding gate next to the runway and some blocks .\n",
            "4) a squared termial building sits beside an apron which is connceted to the runway .\n",
            "5) three planes are near a white building in an airport with several runways .\n",
            "\n",
            "\n",
            "\n"
          ]
        }
      ]
    },
    {
      "cell_type": "markdown",
      "metadata": {
        "id": "1EdbSAbRLRhh"
      },
      "source": [
        "## Training arguments"
      ]
    },
    {
      "cell_type": "code",
      "metadata": {
        "id": "0gIBsInb95In"
      },
      "source": [
        "@dataclass\n",
        "class ModelArguments:\n",
        "    \"\"\"\n",
        "    Arguments pertaining to which model/config/tokenizer we are going to fine-tune, or train from scratch.\n",
        "    \"\"\"\n",
        "\n",
        "    model_name_or_path: Optional[str] = field(\n",
        "        default=None,\n",
        "        metadata={\n",
        "            \"help\": \"The model checkpoint for weights initialization.\"\n",
        "            \"Don't set if you want to train a model from scratch.\"\n",
        "        },\n",
        "    )\n",
        "    config_name: Optional[str] = field(\n",
        "        default=None, metadata={\"help\": \"Pretrained config name or path if not the same as model_name\"}\n",
        "    )\n",
        "    tokenizer_name: Optional[str] = field(\n",
        "        default=None, metadata={\"help\": \"Pretrained tokenizer name or path if not the same as model_name\"}\n",
        "    )\n",
        "    cache_dir: Optional[str] = field(\n",
        "        default=None, metadata={\"help\": \"Where do you want to store the pretrained models downloaded from s3\"}\n",
        "    )\n",
        "    use_fast_tokenizer: bool = field(\n",
        "        default=True,\n",
        "        metadata={\"help\": \"Whether to use one of the fast tokenizer (backed by the tokenizers library) or not.\"},\n",
        "    )\n",
        "    dtype: Optional[str] = field(\n",
        "        default=\"float32\",\n",
        "        metadata={\n",
        "            \"help\": \"Floating-point format in which the model weights should be initialized and trained. Choose one of `[float32, float16, bfloat16]`.\"\n",
        "        },\n",
        "    )\n",
        "    save_optimizer: Optional[bool] = field(\n",
        "        default=True,\n",
        "        metadata={\"help\": \"Whether to store full train state including optimizer.\"},\n",
        "    )\n",
        "\n",
        "\n",
        "@dataclass\n",
        "class DataTrainingArguments:\n",
        "    \"\"\"\n",
        "    Arguments pertaining to what data we are going to input our model for training and eval.\n",
        "    \"\"\"\n",
        "\n",
        "    dataset_name: Optional[str] = field(\n",
        "        default=None, metadata={\"help\": \"The name of the dataset to use (via the datasets library).\"}\n",
        "    )\n",
        "    data_dir: Optional[str] = field(\n",
        "        default=None, metadata={\"help\": \"Path to local folder containing data files.\"}\n",
        "    )\n",
        "    train_file: Optional[str] = field(\n",
        "        default=None, metadata={\"help\": \"The input training data file (a jsonlines file).\"}\n",
        "    )\n",
        "    validation_file: Optional[str] = field(\n",
        "        default=None,\n",
        "        metadata={\"help\": \"An optional input evaluation data file (a jsonlines file).\"},\n",
        "    )\n",
        "    train_file: Optional[str] = field(default=None, metadata={\"help\": \"The input training data file (a text file).\"})\n",
        "    validation_file: Optional[str] = field(\n",
        "        default=None,\n",
        "        metadata={\"help\": \"An optional input evaluation data file to evaluate the perplexity on (a text file).\"},\n",
        "    )\n",
        "    max_train_samples: Optional[int] = field(\n",
        "        default=None,\n",
        "        metadata={\n",
        "            \"help\": \"For debugging purposes or quicker training, truncate the number of training examples to this \"\n",
        "            \"value if set.\"\n",
        "        },\n",
        "    )\n",
        "    max_eval_samples: Optional[int] = field(\n",
        "        default=None,\n",
        "        metadata={\n",
        "            \"help\": \"For debugging purposes or quicker training, truncate the number of evaluation examples to this \"\n",
        "            \"value if set.\"\n",
        "        },\n",
        "    )\n",
        "    overwrite_cache: bool = field(\n",
        "        default=False, metadata={\"help\": \"Overwrite the cached training and evaluation sets\"}\n",
        "    )\n",
        "    validation_split_percentage: Optional[int] = field(\n",
        "        default=5,\n",
        "        metadata={\n",
        "            \"help\": \"The percentage of the train set used as validation set in case there's no validation split\"\n",
        "        },\n",
        "    )\n",
        "    block_size: Optional[int] = field(\n",
        "        default=None,\n",
        "        metadata={\n",
        "            \"help\": \"Optional input sequence length after tokenization. \"\n",
        "            \"The training dataset will be truncated in block of this size for training. \"\n",
        "            \"Default to the model max input length for single sentence inputs (take into account special tokens).\"\n",
        "        },\n",
        "    )\n",
        "    overwrite_cache: bool = field(\n",
        "        default=False, metadata={\"help\": \"Overwrite the cached training and evaluation sets\"}\n",
        "    )\n",
        "    preprocessing_num_workers: Optional[int] = field(\n",
        "        default=None,\n",
        "        metadata={\"help\": \"The number of processes to use for the preprocessing.\"},\n",
        "    )\n",
        "    text_column_name: Optional[str] = field(\n",
        "            default='text',\n",
        "            metadata={\"help\": \"Column containing main text data.\"},\n",
        "    )\n",
        "    augment_images: Optional[bool] = field(\n",
        "        default=True,\n",
        "        metadata={ \"help\": \"Augment input training images\" }\n",
        "    )\n",
        "    augment_captions: Optional[bool] = field(\n",
        "        default=True,\n",
        "        metadata={ \"help\": \"Augment input training images\" }\n",
        "    )\n",
        "    captions_per_image: Optional[int] = field(\n",
        "        default=5,\n",
        "        metadata={\"help\": \"Number of captions per image to use when creating train dataset.\"},\n",
        "    )\n",
        "\n",
        "    def __post_init__(self):\n",
        "        if self.dataset_name is None and self.train_file is None and self.validation_file is None:\n",
        "            raise ValueError(\"Need either a dataset name or a training/validation file.\")\n",
        "        else:\n",
        "            if self.train_file is not None:\n",
        "                extension = self.train_file.split(\".\")[-1]\n",
        "                assert extension in [\"csv\", \"json\", \"txt\", \"jsonl\"], \"`train_file` should be a csv, a json or a txt file.\"\n",
        "            if self.validation_file is not None:\n",
        "                extension = self.validation_file.split(\".\")[-1]\n",
        "                assert extension in [\"csv\", \"json\", \"txt\", \"jsonl\"], \"`validation_file` should be a csv, a json or a txt file.\"\n",
        "\n",
        "\n",
        "@dataclass\n",
        "class ImageAugmentationArguments:\n",
        "    \"\"\"\n",
        "    Arguments for image augmentations configuration\n",
        "    \"\"\"\n",
        "    random_horizontal_flip: Optional[float] = field(\n",
        "        default=0.5,\n",
        "        metadata={ \"help\": \"Probability of applying random horizontal flip\" }\n",
        "    )\n",
        "    random_vertical_flip: Optional[float] = field(\n",
        "        default=0.5,\n",
        "        metadata={ \"help\": \"Probability of applying random vartical flip\" }\n",
        "    )\n"
      ],
      "execution_count": 19,
      "outputs": []
    },
    {
      "cell_type": "code",
      "metadata": {
        "id": "jXZ-1Qb2dc2R"
      },
      "source": [
        "training_args = TrainingArguments(\n",
        "    output_dir = \"./tmp/model1\",\n",
        "    overwrite_output_dir = False,\n",
        "    do_train = True,\n",
        "    do_eval = True,\n",
        "    evaluation_strategy = \"steps\",\n",
        "    per_device_train_batch_size = 8, #32,\n",
        "    per_device_eval_batch_size = 8, #32,\n",
        "    gradient_accumulation_steps = 8,\n",
        "    learning_rate = 5e-05,\n",
        "    weight_decay = 0.1,\n",
        "    adam_beta1 = 0.9,\n",
        "    adam_beta2 = 0.98,\n",
        "    adam_epsilon = 1e-06,\n",
        "    max_grad_norm = 1.0,\n",
        "    num_train_epochs = 4, # 1,\n",
        "    max_steps = -1,\n",
        "    lr_scheduler_type = \"linear\",\n",
        "    warmup_ratio = 0.2,\n",
        "    # warmup_steps = 0,\n",
        "    logging_first_step = False,\n",
        "    logging_steps = 50,\n",
        "    save_strategy = \"epoch\",\n",
        "    seed = 42,\n",
        "    dataloader_drop_last = True,\n",
        "    eval_steps = 200,\n",
        "    run_name = None,\n",
        "    adafactor = False,\n",
        "    report_to = \"all\",\n",
        "    skip_memory_metrics = True,\n",
        "    resume_from_checkpoint = None,\n",
        ")"
      ],
      "execution_count": 38,
      "outputs": []
    },
    {
      "cell_type": "code",
      "metadata": {
        "id": "YYO-c1gVdcu-"
      },
      "source": [
        "model_args = ModelArguments(\n",
        "    model_name_or_path = \"openai/clip-vit-base-patch32\",\n",
        "    dtype = half_precision_dtype,\n",
        "    save_optimizer = False,\n",
        ")"
      ],
      "execution_count": 39,
      "outputs": []
    },
    {
      "cell_type": "code",
      "metadata": {
        "id": "Ho0niTyzdcnd"
      },
      "source": [
        "data_args = DataTrainingArguments(\n",
        "    dataset_name = None,\n",
        "    data_dir = \"/content/data/\",\n",
        "    train_file = \"/content/data/textaug_train_rsicd.jsonl\",\n",
        "    validation_file = \"/content/data/textaug_valid_rsicd.jsonl\",\n",
        "    max_train_samples = None,\n",
        "    max_eval_samples = None,\n",
        "    overwrite_cache = False,\n",
        "    validation_split_percentage = 5,\n",
        "    preprocessing_num_workers = 2,\n",
        "    augment_images = True,\n",
        "    augment_captions = True,\n",
        "    captions_per_image = 5,\n",
        ")\n",
        "\n",
        "augmentation_args = ImageAugmentationArguments()"
      ],
      "execution_count": 40,
      "outputs": []
    },
    {
      "cell_type": "markdown",
      "metadata": {
        "id": "s3PQA_P8BNcb"
      },
      "source": [
        "Some utility functions for training:"
      ]
    },
    {
      "cell_type": "code",
      "metadata": {
        "id": "u7TtobMM_j2d"
      },
      "source": [
        "class TrainState(train_state.TrainState):\n",
        "    dropout_rng: jnp.ndarray\n",
        "\n",
        "    def replicate(self):\n",
        "        return jax_utils.replicate(self).replace(dropout_rng=shard_prng_key(self.dropout_rng))\n",
        "\n",
        "\n",
        "def write_train_metric(summary_writer, train_metrics, train_time, step):\n",
        "    summary_writer.scalar(\"train_time\", train_time, step)\n",
        "\n",
        "    train_metrics = get_metrics(train_metrics)\n",
        "    for key, vals in train_metrics.items():\n",
        "        tag = f\"train_{key}\"\n",
        "        for i, val in enumerate(vals):\n",
        "            summary_writer.scalar(tag, val, step - len(vals) + i + 1)\n",
        "\n",
        "\n",
        "def write_eval_metric(summary_writer, eval_metrics, step):\n",
        "    for metric_name, value in eval_metrics.items():\n",
        "        summary_writer.scalar(f\"eval_{metric_name}\", value, step)\n",
        "\n",
        "\n",
        "def create_learning_rate_fn(\n",
        "    train_ds_size: int, train_batch_size: int, num_train_epochs: int, warmup_ratio: float, learning_rate: float\n",
        ") -> Callable[[int], jnp.array]:\n",
        "    \"\"\"Returns a linear warmup, linear_decay learning rate function.\"\"\"\n",
        "    steps_per_epoch = train_ds_size // train_batch_size\n",
        "    num_train_steps = steps_per_epoch * num_train_epochs\n",
        "    num_warmup_steps = int(num_train_steps * warmup_ratio)\n",
        "    warmup_fn = optax.linear_schedule(init_value=0.0, end_value=learning_rate, transition_steps=num_warmup_steps)\n",
        "    decay_fn = optax.linear_schedule(\n",
        "        init_value=learning_rate, end_value=0, transition_steps=num_train_steps - num_warmup_steps\n",
        "    )\n",
        "    schedule_fn = optax.join_schedules(schedules=[warmup_fn, decay_fn], boundaries=[num_warmup_steps])\n",
        "    return schedule_fn\n",
        "\n",
        "# utils\n",
        "def mb_item(x):\n",
        "    return x.item() if hasattr(x, \"item\") else x\n",
        "\n",
        "def make_batch(samples):\n",
        "    batch = {k:jnp.array(v) for k,v in samples.items()}\n",
        "    return batch\n"
      ],
      "execution_count": 41,
      "outputs": []
    },
    {
      "cell_type": "markdown",
      "metadata": {
        "id": "wEnlIPdIM2_U"
      },
      "source": [
        "## Training"
      ]
    },
    {
      "cell_type": "code",
      "metadata": {
        "id": "6r25FOiR9-Wo"
      },
      "source": [
        "# Make one log on every process with the configuration for debugging.\n",
        "logging.basicConfig(\n",
        "    format=\"%(asctime)s - %(levelname)s - %(name)s - %(message)s\",\n",
        "    datefmt=\"%m/%d/%Y %H:%M:%S\",\n",
        "    level=logging.INFO,\n",
        ")"
      ],
      "execution_count": 42,
      "outputs": []
    },
    {
      "cell_type": "code",
      "metadata": {
        "id": "rxGNIhxB5UoD"
      },
      "source": [
        "# Load pretrained model and tokenizer\n",
        "\n",
        "# Distributed training:\n",
        "# The .from_pretrained methods guarantee that only one local process can concurrently\n",
        "# download model & vocab.\n",
        "if model_args.config_name:\n",
        "    config = AutoConfig.from_pretrained(model_args.config_name, cache_dir=model_args.cache_dir)\n",
        "elif model_args.model_name_or_path:\n",
        "    config = AutoConfig.from_pretrained(model_args.model_name_or_path, cache_dir=model_args.cache_dir)\n",
        "else:\n",
        "    config = CONFIG_MAPPING[model_args.model_type]()\n",
        "    logger.warning(\"You are instantiating a new config instance from scratch.\")\n",
        "\n",
        "processor = CLIPProcessor.from_pretrained(model_args.model_name_or_path)\n",
        "tokenizer = processor.tokenizer\n",
        "if model_args.model_name_or_path:\n",
        "    model = FlaxCLIPModel.from_pretrained(\n",
        "        model_args.model_name_or_path, config=config, seed=training_args.seed, dtype=getattr(jnp, model_args.dtype)\n",
        "    )\n",
        "else:\n",
        "    model = FlaxCLIPModel.from_config(\n",
        "        config, seed=training_args.seed, dtype=getattr(jnp, model_args.dtype)\n",
        "    )"
      ],
      "execution_count": 43,
      "outputs": []
    },
    {
      "cell_type": "code",
      "source": [
        "!ls {data_args.data_dir}"
      ],
      "metadata": {
        "id": "6IJWrWbuKlS-",
        "outputId": "8731f05b-f54e-41fc-a9c2-17ba0464a0bd",
        "colab": {
          "base_uri": "https://localhost:8080/"
        }
      },
      "execution_count": 44,
      "outputs": [
        {
          "output_type": "stream",
          "name": "stdout",
          "text": [
            "rsicd_images\t\t  textaug_train_rsicd.jsonl\n",
            "textaug_test_rsicd.jsonl  textaug_valid_rsicd.jsonl\n"
          ]
        }
      ]
    },
    {
      "cell_type": "code",
      "source": [
        "data_args.augment_captions"
      ],
      "metadata": {
        "id": "0--uVRWzKm0Y",
        "outputId": "f2b9b49b-2f6b-41d8-830e-521ff5c948ce",
        "colab": {
          "base_uri": "https://localhost:8080/"
        }
      },
      "execution_count": 45,
      "outputs": [
        {
          "output_type": "execute_result",
          "data": {
            "text/plain": [
              "True"
            ]
          },
          "metadata": {},
          "execution_count": 45
        }
      ]
    },
    {
      "cell_type": "code",
      "metadata": {
        "colab": {
          "base_uri": "https://localhost:8080/"
        },
        "id": "Gq-W2X8o8AUc",
        "outputId": "04dd07d1-4af6-44ad-e534-ca99dde85148"
      },
      "source": [
        "config = model.config\n",
        "# Initialize torchvision transforms and jit them for faster processing\n",
        "preprocess = Transform(config.vision_config.image_size, data_args.augment_images, augmentation_args)\n",
        "preprocess = torch.jit.script(preprocess)\n",
        "\n",
        "eval_preprocess = Transform(config.vision_config.image_size, False, augmentation_args)\n",
        "eval_preprocess = torch.jit.script(eval_preprocess)\n",
        "\n",
        "# Initialize the image-text dataset\n",
        "train_dataset = ImageTextDataset(\n",
        "    data_args.data_dir,\n",
        "    \"train\",\n",
        "    captions_per_image=data_args.captions_per_image,\n",
        "    augment_captions=data_args.augment_captions,\n",
        "    transform=preprocess,\n",
        ")\n",
        "\n",
        "eval_dataset = ImageTextDataset(\n",
        "    data_args.data_dir,\n",
        "    \"valid\",\n",
        "    captions_per_image=1,\n",
        "    transform=eval_preprocess,\n",
        ")\n",
        "\n",
        "# Enable tensorboard only on the master node\n",
        "has_tensorboard = is_tensorboard_available()\n",
        "if has_tensorboard and jax.process_index() == 0:\n",
        "    try:\n",
        "        from flax.metrics.tensorboard import SummaryWriter\n",
        "\n",
        "        summary_writer = SummaryWriter(log_dir=Path(training_args.output_dir))\n",
        "    except ImportError as ie:\n",
        "        has_tensorboard = False\n",
        "        logger.warning(\n",
        "            f\"Unable to display metrics through TensorBoard because some package are not installed: {ie}\"\n",
        "        )\n",
        "else:\n",
        "    logger.warning(\n",
        "        \"Unable to display metrics through TensorBoard because the package is not installed: \"\n",
        "        \"Please run pip install tensorboard to enable.\"\n",
        "    )\n",
        "\n",
        "# Use collate function to tokenizer the text and convert the processed images to numpy\n",
        "def collate_fn(examples):\n",
        "    pixel_values = torch.stack([example[0] for example in examples]).numpy()\n",
        "    captions = [example[1] for example in examples]\n",
        "    inputs = tokenizer(captions, max_length=32, padding=\"max_length\", return_tensors=\"np\", truncation=True)\n",
        "\n",
        "    batch = {\n",
        "        \"pixel_values\": pixel_values,\n",
        "        \"input_ids\": inputs[\"input_ids\"],\n",
        "        \"attention_mask\": inputs[\"attention_mask\"],\n",
        "    }\n",
        "\n",
        "    return batch\n",
        "\n",
        "# Store some constant\n",
        "num_epochs = int(training_args.num_train_epochs)\n",
        "train_batch_size = int(training_args.per_device_train_batch_size) * jax.device_count() * training_args.gradient_accumulation_steps\n",
        "eval_batch_size = int(training_args.per_device_eval_batch_size) * jax.device_count()\n",
        "steps_per_epoch = len(train_dataset) // train_batch_size\n",
        "total_train_steps = steps_per_epoch * num_epochs\n",
        "\n",
        "# Create data loaders\n",
        "train_loader = torch.utils.data.DataLoader(\n",
        "    train_dataset,\n",
        "    batch_size=train_batch_size,\n",
        "    shuffle=True,\n",
        "    num_workers=data_args.preprocessing_num_workers,\n",
        "    persistent_workers=True,\n",
        "    drop_last=True,\n",
        "    collate_fn=collate_fn,\n",
        ")\n",
        "\n",
        "eval_loader = torch.utils.data.DataLoader(\n",
        "    eval_dataset,\n",
        "    batch_size=eval_batch_size,\n",
        "    shuffle=False,\n",
        "    num_workers=data_args.preprocessing_num_workers,\n",
        "    persistent_workers=True,\n",
        "    drop_last=True,\n",
        "    collate_fn=collate_fn,\n",
        ")\n"
      ],
      "execution_count": 46,
      "outputs": [
        {
          "output_type": "stream",
          "name": "stdout",
          "text": [
            "1 input files for train split found\n",
            "1 input files for valid split found\n"
          ]
        }
      ]
    },
    {
      "cell_type": "code",
      "metadata": {
        "id": "o7noKF6g9V3Y",
        "colab": {
          "base_uri": "https://localhost:8080/",
          "height": 176,
          "referenced_widgets": [
            "c833cecd05994e699ba391f2b62641eb",
            "a9bfaf1f61b54ad5b78a2b8d605e1c06",
            "3907252d7dc6411b87b2805665b77f2e",
            "33df012af719454f8d45f923fa405ee9",
            "67679d336fd24200bb3c3cf03427d9eb",
            "51b64a225b224b2e859c3f520a3d3807",
            "761894e58de9496b9546e7279c5c5a1d",
            "4e43c5a5aab8455eb90618c7610d623f"
          ]
        },
        "outputId": "710a6fd1-c661-44df-8e99-75c27c07d161"
      },
      "source": [
        "# enable wandb tracking\n",
        "has_wandb = find_spec(\"wandb\") is not None \n",
        "if jax.process_index() == 0 and has_wandb and (\"wandb\" in training_args.report_to):\n",
        "    try:\n",
        "        import wandb\n",
        "        if training_args.run_name is None:\n",
        "            run_name = training_args.output_dir.split(\"/\")[-1]\n",
        "        else:\n",
        "            run_name = training_args.run_name\n",
        "        wandb.init(\n",
        "            name=run_name,\n",
        "            entity=\"wandb\", \n",
        "            project=\"hf-flax-clip-rsicd\",\n",
        "            sync_tensorboard=True\n",
        "        )\n",
        "        wandb.config.update(training_args)\n",
        "        wandb.config.update(model_args)\n",
        "        wandb.config.update(data_args)\n",
        "    except ImportError as e:\n",
        "        print(e)\n",
        "        has_wandb = False\n",
        "\n",
        "# Initialize our training\n",
        "rng = jax.random.PRNGKey(training_args.seed)\n",
        "rng, dropout_rng = jax.random.split(rng)\n",
        "\n",
        "# Create learning rate schedule\n",
        "linear_decay_lr_schedule_fn = create_learning_rate_fn(\n",
        "    len(train_dataset),\n",
        "    train_batch_size,\n",
        "    training_args.num_train_epochs,\n",
        "    training_args.warmup_ratio,\n",
        "    training_args.learning_rate,\n",
        ")\n",
        "\n",
        "# We use Optax's \"masking\" functionality to not apply weight decay\n",
        "# to bias and LayerNorm scale parameters. decay_mask_fn returns a\n",
        "# mask boolean with the same structure as the parameters.\n",
        "# The mask is True for parameters that should be decayed.\n",
        "# Note that this mask is specifically adapted for FlaxGPT2.\n",
        "# For other models, one should correct the layer norm parameter naming\n",
        "# accordingly.\n",
        "def decay_mask_fn(params):\n",
        "    flat_params = traverse_util.flatten_dict(params)\n",
        "    flat_mask = {\n",
        "        path: (path[-1] != \"bias\" and path[-2:] not in [(\"ln_1\", \"scale\"), (\"ln_2\", \"scale\"), (\"ln_f\", \"scale\")])\n",
        "        for path in flat_params\n",
        "    }\n",
        "    return traverse_util.unflatten_dict(flat_mask)\n",
        "\n",
        "# create optimizer\n",
        "if training_args.adafactor:\n",
        "    # We use the default parameters here to initialize adafactor,\n",
        "    # For more details about the parameters please check https://github.com/deepmind/optax/blob/ed02befef9bf81cbbf236be3d2b0e032e9ed4a40/optax/_src/alias.py#L74\n",
        "    optimizer = optax.adafactor(\n",
        "        learning_rate=linear_decay_lr_schedule_fn,\n",
        "    )\n",
        "else:\n",
        "    optimizer = optax.adamw(\n",
        "        learning_rate=linear_decay_lr_schedule_fn,\n",
        "        b1=training_args.adam_beta1,\n",
        "        b2=training_args.adam_beta2,\n",
        "        eps=training_args.adam_epsilon,\n",
        "        weight_decay=training_args.weight_decay,\n",
        "        mask=decay_mask_fn,\n",
        "    )\n",
        "    optimizer = optax.chain(\n",
        "        optax.clip_by_global_norm(training_args.max_grad_norm),\n",
        "        optimizer\n",
        "    )\n",
        "if training_args.gradient_accumulation_steps > 1:\n",
        "    optimizer = optax.MultiSteps(optimizer, training_args.gradient_accumulation_steps)\n",
        "grad_accum_steps = training_args.gradient_accumulation_steps\n",
        "\n",
        "# Setup train state\n",
        "state = TrainState.create(apply_fn=model.__call__, params=model.params, tx=optimizer, dropout_rng=dropout_rng)\n",
        "\n",
        "if training_args.resume_from_checkpoint:\n",
        "    state = restore_checkpoint(training_args.resume_from_checkpoint, state)\n",
        "    resume_step = mb_item(state.step)\n",
        "else:\n",
        "    resume_step = 0"
      ],
      "execution_count": 47,
      "outputs": [
        {
          "output_type": "display_data",
          "data": {
            "text/html": [
              "Finishing last run (ID:3gbm8xcl) before initializing another..."
            ],
            "text/plain": [
              "<IPython.core.display.HTML object>"
            ]
          },
          "metadata": {}
        },
        {
          "output_type": "display_data",
          "data": {
            "text/html": [
              "<br/>Waiting for W&B process to finish, PID 1005... <strong style=\"color:green\">(success).</strong>"
            ],
            "text/plain": [
              "<IPython.core.display.HTML object>"
            ]
          },
          "metadata": {}
        },
        {
          "output_type": "display_data",
          "data": {
            "application/vnd.jupyter.widget-view+json": {
              "model_id": "c833cecd05994e699ba391f2b62641eb",
              "version_minor": 0,
              "version_major": 2
            },
            "text/plain": [
              "VBox(children=(Label(value=' 0.00MB of 0.00MB uploaded (0.00MB deduped)\\r'), FloatProgress(value=1.0, max=1.0)…"
            ]
          },
          "metadata": {}
        },
        {
          "output_type": "display_data",
          "data": {
            "text/html": [
              "<style>\n",
              "    table.wandb td:nth-child(1) { padding: 0 10px; text-align: right }\n",
              "    .wandb-row { display: flex; flex-direction: row; flex-wrap: wrap; width: 100% }\n",
              "    .wandb-col { display: flex; flex-direction: column; flex-basis: 100%; flex: 1; padding: 10px; }\n",
              "    </style>\n",
              "<div class=\"wandb-row\"><div class=\"wandb-col\">\n",
              "</div><div class=\"wandb-col\">\n",
              "</div></div>\n",
              "Synced 5 W&B file(s), 0 media file(s), 0 artifact file(s) and 1 other file(s)\n",
              "<br/>Synced <strong style=\"color:#cdcd00\">./tmp/model1</strong>: <a href=\"https://wandb.ai/wandb/hf-flax-clip-rsicd/runs/3gbm8xcl\" target=\"_blank\">https://wandb.ai/wandb/hf-flax-clip-rsicd/runs/3gbm8xcl</a><br/>\n",
              "Find logs at: <code>./wandb/run-20220219_214149-3gbm8xcl/logs</code><br/>\n"
            ],
            "text/plain": [
              "<IPython.core.display.HTML object>"
            ]
          },
          "metadata": {}
        },
        {
          "output_type": "display_data",
          "data": {
            "text/html": [
              "Successfully finished last run (ID:3gbm8xcl). Initializing new run:<br/>"
            ],
            "text/plain": [
              "<IPython.core.display.HTML object>"
            ]
          },
          "metadata": {}
        },
        {
          "output_type": "display_data",
          "data": {
            "text/html": [
              "\n",
              "                    Syncing run <strong><a href=\"https://wandb.ai/wandb/hf-flax-clip-rsicd/runs/lof2ufpd\" target=\"_blank\">./tmp/model1</a></strong> to <a href=\"https://wandb.ai/wandb/hf-flax-clip-rsicd\" target=\"_blank\">Weights & Biases</a> (<a href=\"https://docs.wandb.com/integrations/jupyter.html\" target=\"_blank\">docs</a>).<br/>\n",
              "\n",
              "                "
            ],
            "text/plain": [
              "<IPython.core.display.HTML object>"
            ]
          },
          "metadata": {}
        }
      ]
    },
    {
      "cell_type": "code",
      "metadata": {
        "id": "JzrlUS5R84Jt"
      },
      "source": [
        "def cross_entropy(logits, axis):\n",
        "    logprobs = jax.nn.log_softmax(logits, axis=axis)\n",
        "    nll = jnp.diag(logprobs)\n",
        "    ce = -jnp.mean(nll)\n",
        "    return ce\n",
        "\n",
        "def clip_loss(similarity):\n",
        "    loss = (cross_entropy(similarity, axis=0) + cross_entropy(similarity, axis=1)) / 2\n",
        "    return loss\n",
        "\n",
        "# Define gradient update step fn\n",
        "def train_step(state, batch):\n",
        "    dropout_rng, new_dropout_rng = jax.random.split(state.dropout_rng)\n",
        "\n",
        "    def compute_loss(params):\n",
        "        logits = state.apply_fn(**batch, params=params, dropout_rng=dropout_rng, train=True)[0]\n",
        "        loss = clip_loss(logits)\n",
        "        return loss\n",
        "\n",
        "    grad_fn = jax.value_and_grad(compute_loss)\n",
        "    loss, grad = grad_fn(state.params)\n",
        "    grad = jax.lax.pmean(grad, \"batch\")\n",
        "\n",
        "    new_state = state.apply_gradients(grads=grad, dropout_rng=new_dropout_rng)\n",
        "\n",
        "    metrics = {\"loss\": loss, \"learning_rate\": linear_decay_lr_schedule_fn(state.step // grad_accum_steps)}\n",
        "    metrics = jax.lax.pmean(metrics, axis_name=\"batch\")\n",
        "\n",
        "    return new_state, metrics\n",
        "\n",
        "# Define eval fn\n",
        "def eval_step(params, batch):\n",
        "    logits = model(**batch, params=params, train=False)[0]\n",
        "    loss = clip_loss(logits)\n",
        "\n",
        "    # summarize metrics\n",
        "    metrics = {\"loss\": loss}\n",
        "    metrics = jax.lax.pmean(metrics, axis_name=\"batch\")\n",
        "    return metrics\n",
        "\n",
        "# Create parallel version of the train and eval step\n",
        "p_train_step = jax.pmap(train_step, \"batch\", donate_argnums=(0,))\n",
        "p_eval_step = jax.pmap(eval_step, \"batch\")\n",
        "\n",
        "# Replicate the train state on each device\n",
        "state = state.replicate()"
      ],
      "execution_count": 48,
      "outputs": []
    },
    {
      "cell_type": "code",
      "metadata": {
        "id": "SFJn5xsYtXWW",
        "colab": {
          "base_uri": "https://localhost:8080/",
          "height": 415,
          "referenced_widgets": [
            "7ed55cfdca33453da2e51397362c60ec",
            "ad6b2d03d7464417be640a36ee5d4d5d",
            "b3b0f1f7b94f49e7be28be45f9e7685b",
            "f4fa6f6704c04a70919cd6d6613718ef",
            "76e5d58fd54e49529c0c3434ed67c5eb",
            "581b48645481451f83c18b4c3d60e92a",
            "0bb8e492c49249fe97c76b02af3c0cb2",
            "29152c308d254c9199ce44add4625c51",
            "591ae2d451cf4ed78b5722442c21c007",
            "aae0b860ab334c15b2395b8f44e05f1e",
            "c8652e59f26b4cb98883da6b20d35057",
            "672f057fc7764b23aa56ff23dfd2ae26",
            "70d78cd99332459ab33c33461c1c3b26",
            "4db6a35290f84ea08ed78653a6b8cbe7",
            "690f0c78da93408b90f738447ef58365",
            "350d2dcec83341b590e7d8de76ef463d",
            "ad4362b5649b44e5a7dcc9b37fd81d4f",
            "740b81eb90384b30ac4237f104042c45",
            "52e5741e699549f392a727dd7f782b3c",
            "d3bd29be10564a298b03decbcf7b5962",
            "ea4a835a5fb442b9a3c0b23efc8ac356",
            "677f8fdbd8e54120a5f28fe1bc61ae2f",
            "e9f593881cfd47dfb37b228f025671d3",
            "1c2458bb4f8445deb0f1db39d4f8d1a7",
            "66c2d7206f9a4eecbc5af489f99ac833",
            "e394a4f838b1456a95b2c0e1899b6da3",
            "c3098cb516784607aa6147cec0b2a891",
            "9582c0b138554b24af17660cacd7b83e",
            "f51aabb115f246f98fc2ac512f35c418",
            "6e0e19428591408c812852edf2d031b5",
            "0eae5a144713432cb66d2ebd99ddbf98",
            "d4645e86174447759c0d70f9f9427cc2",
            "3d4a03638b51486794d8051cbb6f62c4",
            "7171d36efa0747afabdf9296342d8304",
            "3bd702f3e49e4403b0cd343b5cf9560d",
            "6301c9f19e81477ba34a07b78e244391",
            "3e704fde019a4cee960b1afe437e059b",
            "2a9f9c08d4584dfbb0a26c2bc9b7191b",
            "9de04d8feba54cf09b4933be743b80a7",
            "6486d12946d94ecc848d2016a74da860",
            "dce6caeb0dea4024889e5c9b536dff79",
            "5dabb317af304013aa835289d1213179",
            "faaa35e2a9fb4205a1d48eaac219c988",
            "fdbfe2ebfdb046f0a1107419ec24b402",
            "8c485e8615584f3eafaffd74ef008218",
            "84df639eb7cf45e7ab8a292b21ff7b56",
            "97762563f8c5463d9e0958beddb3909a",
            "9e65aae86b5e4283b675083b8767ca49",
            "2a0a9846eb484798b5b757484bcd0b25",
            "228efb70ad3d411587038ebedac9d8d6",
            "c95183f7402540b2ae05a566b2de2909",
            "a179f1daebb94431be4c0f71520ec97b",
            "01a100d1ce124e6fb8cc8cdcca91ad32",
            "1bab6e3104b94689ba10a416d37427fb",
            "a92204baf78645619927ea33cd21cf70",
            "3942e79db3c5476cbb6ff2c12141fde2",
            "8378d9c0e3404e688e82d99de6e5df49",
            "48e6a6b1f52f4edbaa3e0dc0edfc0f20",
            "e6c9f2e15c2241c6a2a14422ff09a8e4",
            "fac565ccd87d45a1bd24cc32ba38b284",
            "b518b9b2737040dab42c7c759cfe856c",
            "1d2b06ec876345fc80dac37634bc41d3",
            "2f5f0fdc62e84d8a89f41a0186053f6f",
            "3b4597066609443a94de546a75b29302",
            "0af7edc6cb2346bc9637c180e14d8485",
            "024e4220b29847ad8f52aa001359bcaa",
            "a01459fff86346329931e4b20f28a490",
            "66881f0917714f0e91aa24f21e6dd08e",
            "28fb7603789b44bc8f167221deee5a43",
            "2b7f203593d14cfaa68851a9ee55148a",
            "17eb0ee520f647588ebfd5fc4ce93b55",
            "423e9945cac64de5aa6c0d639521a250",
            "a9c0461dc85d4456b94c6b630ae74c67",
            "aaa50e99eec84431ba971b9f158d4a38",
            "cf83d298967d4bd4ba2454f16f8b3469",
            "bc5f8b6fd7084c00bc9b3466f69d5832",
            "c12c34ecbfb64c7d9241c47d6cd82764",
            "7f3c4e409eda404e9d981c2049859eeb"
          ]
        },
        "outputId": "fe478459-3976-4aca-f1ca-f532dec6e3d0"
      },
      "source": [
        "logger.info(\"***** Running training *****\")\n",
        "logger.info(f\"  Num examples = {len(train_dataset)}\")\n",
        "logger.info(f\"  Num Epochs = {num_epochs}\")\n",
        "logger.info(f\"  Instantaneous batch size per device = {training_args.per_device_train_batch_size}\")\n",
        "logger.info(f\"  Total train batch size (w. parallel, distributed and grad_accum) = {train_batch_size}\")\n",
        "logger.info(f\"  Total optimization steps = {total_train_steps}\")\n",
        "\n",
        "if not training_args.skip_memory_metrics:\n",
        "    server = jax.profiler.start_server(9999)\n",
        "\n",
        "train_time = 0\n",
        "train_metrics = []\n",
        "epochs = tqdm(range(num_epochs), desc=f\"Epoch ... (1/{num_epochs})\", position=0)\n",
        "for epoch in epochs:\n",
        "    # ======================== Training ================================\n",
        "    train_start = time.time()\n",
        "\n",
        "    # Create sampling rng\n",
        "    rng, input_rng = jax.random.split(rng)\n",
        "\n",
        "    # Generate an epoch by shuffling sampling indices from the train dataset\n",
        "    steps_per_epoch = len(train_dataset) // train_batch_size\n",
        "    # train\n",
        "    steps_trained_progress_bar = tqdm(range(steps_per_epoch), desc=\"Training...\", position=1,\n",
        "                                        leave=False, initial=(resume_step // grad_accum_steps))\n",
        "    for step, batch in enumerate(train_loader):\n",
        "        cur_step = epoch * (len(train_dataset) // train_batch_size) + step\n",
        "        # skip to the step from which we are resuming\n",
        "        if cur_step < resume_step:\n",
        "            continue\n",
        "        \n",
        "        batch = shard(make_batch(batch))\n",
        "        \n",
        "        state, train_metric = p_train_step(state, batch)\n",
        "        train_metrics.append(train_metric)\n",
        "        if step % grad_accum_steps == 0:\n",
        "            steps_trained_progress_bar.update(1)\n",
        "\n",
        "        if cur_step % (training_args.logging_steps * grad_accum_steps)== 0 and cur_step > 0:\n",
        "            # Save metrics\n",
        "            train_metric = unreplicate(train_metric)\n",
        "            train_time += time.time() - train_start\n",
        "            if has_tensorboard and jax.process_index() == 0:\n",
        "                write_train_metric(summary_writer, train_metrics, train_time, cur_step)\n",
        "            if has_wandb and jax.process_index() == 0 and (\"wandb\" in training_args.report_to):\n",
        "                # TODO: add accumulation of metrics\n",
        "                _metrics = {k if k==\"learning_rate\" else f\"train_{k}\":mb_item(v.mean()) for k, v in train_metric.items()}\n",
        "                wandb.log({\"training_step\":cur_step, **_metrics}, commit=True)\n",
        "\n",
        "            epochs.write(\n",
        "                f\"Step... ({cur_step} | Loss: {train_metric['loss'].mean()}, Learning Rate: {train_metric['learning_rate'].mean()})\"\n",
        "            )\n",
        "\n",
        "            train_metrics = []\n",
        "\n",
        "    if True:\n",
        "        # ======================== Evaluating ==============================\n",
        "        eval_metrics = []\n",
        "        eval_steps = len(eval_dataset) // eval_batch_size\n",
        "        for batch in tqdm(eval_loader, desc=\"Evaluating...\", position=2, leave=False):\n",
        "            # Model forward\n",
        "            batch = shard(make_batch(batch))\n",
        "            metrics = p_eval_step(state.params, batch)\n",
        "            eval_metrics.append(metrics)\n",
        "\n",
        "        # normalize eval metrics\n",
        "        eval_metrics = get_metrics(eval_metrics)\n",
        "        eval_metrics = jax.tree_map(jnp.mean, eval_metrics)\n",
        "\n",
        "        # Print metrics and update progress bar\n",
        "        desc = f\"Step... ({cur_step} | Eval Loss: {eval_metrics['loss']})\"\n",
        "        epochs.write(desc)\n",
        "        epochs.desc = desc\n",
        "\n",
        "        # Save metrics\n",
        "        if has_tensorboard and jax.process_index() == 0:\n",
        "            # cur_step = epoch * (len(train_dataset) // train_batch_size)\n",
        "            write_eval_metric(summary_writer, eval_metrics, cur_step)\n",
        "        if has_wandb and jax.process_index() == 0 and (\"wandb\" in training_args.report_to):\n",
        "            _metrics = {f\"eval_{k}\":mb_item(v) for k, v in eval_metrics.items()}\n",
        "            wandb.log({\"eval_step\":cur_step, **_metrics})\n",
        "\n",
        "    # save checkpoint after each epoch\n",
        "    if jax.process_index() == 0:\n",
        "        save_dir = f\"{training_args.output_dir}/ckpt-{epoch}\"\n",
        "        model.save_pretrained(\n",
        "            save_dir,\n",
        "            params=unreplicate(state.params),\n",
        "            push_to_hub=False, # training_args.push_to_hub, # we don't push intermediate steps\n",
        "            commit_message=f\"Saving weights and logs at epoch {epoch}\",\n",
        "            repo_name_or_path=training_args.output_dir\n",
        "        )\n",
        "        if model_args.save_optimizer:\n",
        "            save_checkpoint(training_args.output_dir, unreplicate(state), cur_step, keep=training_args.save_total_limit, overwrite=True)\n",
        "        if training_args.save_total_limit is not None:\n",
        "            rotate_checkpoints(training_args.output_dir, training_args.save_total_limit)\n"
      ],
      "execution_count": null,
      "outputs": [
        {
          "data": {
            "application/vnd.jupyter.widget-view+json": {
              "model_id": "7ed55cfdca33453da2e51397362c60ec",
              "version_major": 2,
              "version_minor": 0
            },
            "text/plain": [
              "Epoch ... (1/4):   0%|          | 0/4 [00:00<?, ?it/s]"
            ]
          },
          "metadata": {},
          "output_type": "display_data"
        },
        {
          "data": {
            "application/vnd.jupyter.widget-view+json": {
              "model_id": "672f057fc7764b23aa56ff23dfd2ae26",
              "version_major": 2,
              "version_minor": 0
            },
            "text/plain": [
              "Training...:   0%|          | 0/682 [00:00<?, ?it/s]"
            ]
          },
          "metadata": {},
          "output_type": "display_data"
        },
        {
          "metadata": {
            "tags": null
          },
          "name": "stdout",
          "output_type": "stream",
          "text": [
            "Step... (400 | Loss: 1.48323392868042, Learning Rate: 4.587156581692398e-06)\n"
          ]
        },
        {
          "data": {
            "application/vnd.jupyter.widget-view+json": {
              "model_id": "e9f593881cfd47dfb37b228f025671d3",
              "version_major": 2,
              "version_minor": 0
            },
            "text/plain": [
              "Evaluating...:   0%|          | 0/136 [00:00<?, ?it/s]"
            ]
          },
          "metadata": {},
          "output_type": "display_data"
        },
        {
          "metadata": {
            "tags": null
          },
          "name": "stdout",
          "output_type": "stream",
          "text": [
            "Step... (681 | Eval Loss: 2.1495909690856934)\n"
          ]
        },
        {
          "data": {
            "application/vnd.jupyter.widget-view+json": {
              "model_id": "7171d36efa0747afabdf9296342d8304",
              "version_major": 2,
              "version_minor": 0
            },
            "text/plain": [
              "Training...:   0%|          | 0/682 [00:00<?, ?it/s]"
            ]
          },
          "metadata": {},
          "output_type": "display_data"
        },
        {
          "metadata": {
            "tags": null
          },
          "name": "stdout",
          "output_type": "stream",
          "text": [
            "Step... (800 | Loss: 1.1081550121307373, Learning Rate: 9.174309525405988e-06)\n",
            "Step... (1200 | Loss: 0.8733930587768555, Learning Rate: 1.3761466107098386e-05)\n"
          ]
        },
        {
          "data": {
            "application/vnd.jupyter.widget-view+json": {
              "model_id": "8c485e8615584f3eafaffd74ef008218",
              "version_major": 2,
              "version_minor": 0
            },
            "text/plain": [
              "Evaluating...:   0%|          | 0/136 [00:00<?, ?it/s]"
            ]
          },
          "metadata": {},
          "output_type": "display_data"
        },
        {
          "metadata": {
            "tags": null
          },
          "name": "stdout",
          "output_type": "stream",
          "text": [
            "Step... (1363 | Eval Loss: 2.254059314727783)\n"
          ]
        },
        {
          "data": {
            "application/vnd.jupyter.widget-view+json": {
              "model_id": "3942e79db3c5476cbb6ff2c12141fde2",
              "version_major": 2,
              "version_minor": 0
            },
            "text/plain": [
              "Training...:   0%|          | 0/682 [00:00<?, ?it/s]"
            ]
          },
          "metadata": {},
          "output_type": "display_data"
        },
        {
          "metadata": {
            "tags": null
          },
          "name": "stdout",
          "output_type": "stream",
          "text": [
            "Step... (1600 | Loss: 0.7793260812759399, Learning Rate: 1.8348622688790783e-05)\n",
            "Step... (2000 | Loss: 0.6138656139373779, Learning Rate: 2.2935777451493777e-05)\n"
          ]
        },
        {
          "data": {
            "application/vnd.jupyter.widget-view+json": {
              "model_id": "a01459fff86346329931e4b20f28a490",
              "version_major": 2,
              "version_minor": 0
            },
            "text/plain": [
              "Evaluating...:   0%|          | 0/136 [00:00<?, ?it/s]"
            ]
          },
          "metadata": {},
          "output_type": "display_data"
        },
        {
          "output_type": "stream",
          "name": "stdout",
          "text": [
            "Step... (2045 | Eval Loss: 2.3446433544158936)\n"
          ]
        },
        {
          "output_type": "display_data",
          "data": {
            "application/vnd.jupyter.widget-view+json": {
              "model_id": "66881f0917714f0e91aa24f21e6dd08e",
              "version_minor": 0,
              "version_major": 2
            },
            "text/plain": [
              "Training...:   0%|          | 0/682 [00:00<?, ?it/s]"
            ]
          },
          "metadata": {}
        },
        {
          "output_type": "stream",
          "name": "stdout",
          "text": [
            "Step... (2400 | Loss: 0.5676295757293701, Learning Rate: 2.752293585217558e-05)\n"
          ]
        }
      ]
    },
    {
      "cell_type": "code",
      "source": [
        "!zip -r model1.zip tmp"
      ],
      "metadata": {
        "id": "iBdPmmfCtGdq"
      },
      "execution_count": null,
      "outputs": []
    },
    {
      "cell_type": "code",
      "source": [
        ""
      ],
      "metadata": {
        "id": "TkAYW9tktLvB"
      },
      "execution_count": null,
      "outputs": []
    },
    {
      "cell_type": "code",
      "source": [
        "#### ORIGINAL NOTEBOOK RESULTS\n",
        "\n",
        "# INFO:__main__:***** Running training *****\n",
        "# INFO:__main__:  Num examples = 43670\n",
        "# INFO:__main__:  Num Epochs = 1\n",
        "# INFO:__main__:  Instantaneous batch size per device = 32\n",
        "# INFO:__main__:  Total train batch size (w. parallel, distributed and grad_accum) = 32\n",
        "# INFO:__main__:  Total optimization steps = 1364\n",
        "# Step... (1363 | Eval Loss: 3.2465083599090576): 100%\n",
        "# 1/1 [07:00<00:00, 420.12s/it]\n",
        "# Training...: 100%\n",
        "# 1364/1364 [06:55<00:00, 5.38it/s]\n",
        "# Step... (50 | Loss: 1.3779796361923218, Learning Rate: 9.191175195155665e-06)\n",
        "# Step... (100 | Loss: 1.1074166297912598, Learning Rate: 1.838235039031133e-05)\n",
        "# Step... (150 | Loss: 1.2220288515090942, Learning Rate: 2.75735274044564e-05)\n",
        "# Step... (200 | Loss: 1.0351999998092651, Learning Rate: 3.676470441860147e-05)\n",
        "# Step... (250 | Loss: 1.1444642543792725, Learning Rate: 4.5955879613757133e-05)\n",
        "# Step... (300 | Loss: 1.1477177143096924, Learning Rate: 4.871794590144418e-05)\n",
        "# Step... (350 | Loss: 0.7504262924194336, Learning Rate: 4.6428569476120174e-05)\n",
        "# Step... (400 | Loss: 1.0174486637115479, Learning Rate: 4.4139193050796166e-05)\n",
        "# Step... (450 | Loss: 0.7156405448913574, Learning Rate: 4.184981298749335e-05)\n",
        "# Step... (500 | Loss: 1.2542169094085693, Learning Rate: 3.956044020014815e-05)\n",
        "# Step... (550 | Loss: 0.4042561650276184, Learning Rate: 3.7271060136845335e-05)\n",
        "# Step... (600 | Loss: 0.8942058682441711, Learning Rate: 3.498168371152133e-05)\n",
        "# Step... (650 | Loss: 0.9672960042953491, Learning Rate: 3.269230728619732e-05)\n",
        "# Step... (700 | Loss: 0.9689963459968567, Learning Rate: 3.0402927222894505e-05)\n",
        "# Step... (750 | Loss: 0.7871372699737549, Learning Rate: 2.81135526165599e-05)\n",
        "# Step... (800 | Loss: 0.5602303743362427, Learning Rate: 2.5824176191235892e-05)\n",
        "# Step... (850 | Loss: 0.8040098547935486, Learning Rate: 2.353479794692248e-05)\n",
        "# Step... (900 | Loss: 0.4087825417518616, Learning Rate: 2.124541970260907e-05)\n",
        "# Step... (950 | Loss: 0.8836148977279663, Learning Rate: 1.8956043277285062e-05)\n",
        "# Step... (1000 | Loss: 0.6022820472717285, Learning Rate: 1.666666503297165e-05)\n",
        "# Step... (1050 | Loss: 0.5808299779891968, Learning Rate: 1.4377289517142344e-05)\n",
        "# Step... (1100 | Loss: 0.873551607131958, Learning Rate: 1.2087911272828933e-05)\n",
        "# Step... (1150 | Loss: 0.44037193059921265, Learning Rate: 9.798535756999627e-06)\n",
        "# Step... (1200 | Loss: 0.38650739192962646, Learning Rate: 7.5091570579388645e-06)\n",
        "# Step... (1250 | Loss: 0.433038592338562, Learning Rate: 5.2197810873622075e-06)\n",
        "# Step... (1300 | Loss: 0.4083743095397949, Learning Rate: 2.9304026156751206e-06)\n",
        "# Step... (1350 | Loss: 0.5199722051620483, Learning Rate: 6.410240871446149e-07)\n",
        "# Evaluating...: 97%\n",
        "# 33/34 [00:16<00:00, 9.17it/s]\n",
        "# Step... (1363 | Eval Loss: 3.2465083599090576)"
      ],
      "metadata": {
        "id": "Mh0wh19B78XZ"
      },
      "execution_count": null,
      "outputs": []
    },
    {
      "cell_type": "code",
      "source": [
        "# compare the above training results.\n",
        "# in original, loss decreases, increases and then again decreases."
      ],
      "metadata": {
        "id": "Xz3uWlCwBPaS"
      },
      "execution_count": null,
      "outputs": []
    }
  ]
}