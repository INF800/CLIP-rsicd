{
  "nbformat": 4,
  "nbformat_minor": 0,
  "metadata": {
    "colab": {
      "name": "clip-rsicd-zero-shot.ipynb",
      "provenance": [],
      "collapsed_sections": [],
      "authorship_tag": "ABX9TyPjbTXvi/ieIYYit3vMEp+P",
      "include_colab_link": true
    },
    "kernelspec": {
      "name": "python3",
      "display_name": "Python 3"
    },
    "language_info": {
      "name": "python"
    }
  },
  "cells": [
    {
      "cell_type": "markdown",
      "metadata": {
        "id": "view-in-github",
        "colab_type": "text"
      },
      "source": [
        "<a href=\"https://colab.research.google.com/github/arampacha/CLIP-rsicd/blob/master/nbs/clip_rsicd_zero_shot.ipynb\" target=\"_parent\"><img src=\"https://colab.research.google.com/assets/colab-badge.svg\" alt=\"Open In Colab\"/></a>"
      ]
    },
    {
      "cell_type": "code",
      "metadata": {
        "id": "Eiq1AI2i8CDo"
      },
      "source": [
        "%%capture\n",
        "!pip install -Uqq transformers ftfy"
      ],
      "execution_count": null,
      "outputs": []
    },
    {
      "cell_type": "code",
      "metadata": {
        "id": "1WUqbpNR8Rz1"
      },
      "source": [
        "from PIL import Image\n",
        "import requests\n",
        "\n",
        "from transformers import CLIPProcessor, CLIPModel\n",
        "\n",
        "model = CLIPModel.from_pretrained(\"flax-community/clip-rsicd\")\n",
        "processor = CLIPProcessor.from_pretrained(\"flax-community/clip-rsicd\")\n",
        "\n",
        "url = \"https://raw.githubusercontent.com/arampacha/CLIP-rsicd/master/data/stadium_1.jpg\"\n",
        "image = Image.open(requests.get(url, stream=True).raw)\n",
        "\n",
        "labels = [\"residential area\", \"playground\", \"stadium\", \"forrest\", \"airport\"]\n",
        "inputs = processor(text=[f\"a photo of a {l}\" for l in labels], images=image, return_tensors=\"pt\", padding=True)\n",
        "\n",
        "outputs = model(**inputs)\n",
        "logits_per_image = outputs.logits_per_image\n",
        "probs = logits_per_image.softmax(dim=1)\n",
        "for l, p in zip(labels, probs[0]):\n",
        "    print(f\"{l:<16} {p:.4f}\")"
      ],
      "execution_count": null,
      "outputs": []
    }
  ]
}